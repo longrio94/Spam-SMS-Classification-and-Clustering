{
 "cells": [
  {
   "cell_type": "markdown",
   "metadata": {},
   "source": [
    "# SPAM SMS - CLASSIFICATION AND TOPIC MODELLING"
   ]
  },
  {
   "cell_type": "markdown",
   "metadata": {},
   "source": [
    "# 1. SMS Classification"
   ]
  },
  {
   "cell_type": "markdown",
   "metadata": {},
   "source": [
    "_Reference_:\n",
    "\n",
    "https://machinelearningmastery.com/deep-learning-for-nlp/\n",
    "\n",
    "https://machinelearningmastery.com/clean-text-machine-learning-python/?fbclid=IwAR1Zu4lFlGkdW7bdEZz01sLEo2VNj-7yhKN92ZLOqlTfeBQWC8XSiNkCpks\n",
    "\n",
    "https://machinelearningmastery.com/develop-n-gram-multichannel-convolutional-neural-network-sentiment-analysis/?fbclid=IwAR2KthsKRrP9eZ_ezZQEse_5bwWJ8pH1r9DvXtv5UtCTRpvanuE6BbKtehU"
   ]
  },
  {
   "cell_type": "markdown",
   "metadata": {},
   "source": [
    "_About Dataset_:\n",
    "\n",
    "\"The SMS Spam Collection is a set of SMS tagged messages that have been collected for SMS Spam research. It contains one set of SMS messages in English of 5,574 messages, tagged acording being ham (legitimate) or spam\".\n",
    "\n",
    "The files contain one message per line. Each line is composed by two columns: v1 contains the label (ham or spam) and v2 contains the raw text.\n",
    "\n",
    "https://www.kaggle.com/uciml/sms-spam-collection-dataset"
   ]
  },
  {
   "cell_type": "markdown",
   "metadata": {},
   "source": [
    "### Library and Data"
   ]
  },
  {
   "cell_type": "code",
   "execution_count": 1,
   "metadata": {},
   "outputs": [],
   "source": [
    "import tensorflow as tf"
   ]
  },
  {
   "cell_type": "code",
   "execution_count": 118,
   "metadata": {},
   "outputs": [],
   "source": [
    "import numpy as np    \n",
    "import pandas as pd\n",
    "from sklearn.model_selection import train_test_split\n",
    "from sklearn.metrics import confusion_matrix,f1_score   \n",
    "\n",
    "import string\n",
    "import re\n",
    "from nltk.corpus import stopwords\n",
    "\n",
    "from keras.preprocessing.text import Tokenizer\n",
    "from keras.preprocessing.sequence import pad_sequences\n",
    "from keras.models import Sequential\n",
    "from keras.layers import Dense\n",
    "from keras.layers import Flatten\n",
    "from keras.layers import Embedding\n",
    "from keras.layers.convolutional import Conv1D\n",
    "from keras.layers.convolutional import MaxPooling1D\n",
    "from keras.utils  import to_categorical\n",
    "from keras.layers import Input\n",
    "from keras.layers import Dropout\n",
    "from keras.layers.merge import concatenate\n",
    "from keras.models import Model\n",
    "from keras.wrappers.scikit_learn import KerasClassifier\n",
    "from sklearn.model_selection import RandomizedSearchCV\n",
    "from sklearn.model_selection import GridSearchCV\n",
    "from sklearn.model_selection import KFold"
   ]
  },
  {
   "cell_type": "code",
   "execution_count": 4,
   "metadata": {},
   "outputs": [],
   "source": [
    "mydf = pd.read_csv('spam.csv',\n",
    "                    encoding = \"latin-1\")\n",
    "mydf = mydf.iloc[:,0:2] "
   ]
  },
  {
   "cell_type": "markdown",
   "metadata": {},
   "source": [
    "### Cleaning / Processing Text"
   ]
  },
  {
   "cell_type": "code",
   "execution_count": 5,
   "metadata": {},
   "outputs": [],
   "source": [
    "### turn a doc into clean tokens\n",
    "def clean_doc(doc):\n",
    "    # split into tokens by white space\n",
    "    tokens = doc.split()\n",
    "    # prepare regex for char filtering\n",
    "    re_punc = re.compile('[%s]' % re.escape(string.punctuation))\n",
    "    # remove punctuation from each word\n",
    "    tokens = [re_punc.sub('', w) for w in tokens]\n",
    "    # remove remaining tokens that are not alphabetic\n",
    "    tokens = [word for word in tokens if word.isalpha()]\n",
    "    # filter out stop words\n",
    "    stop_words = set(stopwords.words('english'))\n",
    "    tokens = [w for w in tokens if not w in stop_words]\n",
    "    # filter out short tokens\n",
    "    tokens = [word for word in tokens if len(word) > 1]\n",
    "    return tokens"
   ]
  },
  {
   "cell_type": "code",
   "execution_count": 6,
   "metadata": {},
   "outputs": [],
   "source": [
    "#### fit a tokenizer\n",
    "def create_tokenizer(lines):\n",
    "    tokenizer = Tokenizer()\n",
    "    tokenizer.fit_on_texts(lines)\n",
    "    return tokenizer"
   ]
  },
  {
   "cell_type": "code",
   "execution_count": 7,
   "metadata": {},
   "outputs": [
    {
     "name": "stderr",
     "output_type": "stream",
     "text": [
      "[nltk_data] Downloading package stopwords to\n",
      "[nltk_data]     C:\\Users\\ADMIN\\AppData\\Roaming\\nltk_data...\n",
      "[nltk_data]   Package stopwords is already up-to-date!\n"
     ]
    }
   ],
   "source": [
    "import nltk\n",
    "nltk.download('stopwords')\n",
    "# Using the stopwords.\n",
    "from nltk.corpus import stopwords\n",
    "# Initialize the stopwords\n",
    "stop_words = stopwords.words('english')"
   ]
  },
  {
   "cell_type": "code",
   "execution_count": 8,
   "metadata": {},
   "outputs": [],
   "source": [
    "mydf['clean_text']=mydf['Text'].apply(lambda row : clean_doc(row))\n",
    "\n",
    "mydf['Text_len'] = mydf['Text'].apply(lambda x: len(x) - x.count(\" \"))\n",
    "\n",
    "mydf.drop(\"Text\", axis=1, inplace=True)"
   ]
  },
  {
   "cell_type": "code",
   "execution_count": 9,
   "metadata": {},
   "outputs": [],
   "source": [
    "X_train,X_test,y_train,y_test = train_test_split(mydf,mydf['Label'],test_size=.15)  "
   ]
  },
  {
   "cell_type": "code",
   "execution_count": 10,
   "metadata": {},
   "outputs": [
    {
     "name": "stdout",
     "output_type": "stream",
     "text": [
      "ham     4103\n",
      "spam     633\n",
      "Name: Label, dtype: int64\n",
      "ham     722\n",
      "spam    114\n",
      "Name: Label, dtype: int64\n"
     ]
    }
   ],
   "source": [
    "print(y_train.value_counts())\n",
    "print(y_test.value_counts())"
   ]
  },
  {
   "cell_type": "code",
   "execution_count": 11,
   "metadata": {},
   "outputs": [],
   "source": [
    "max_length_train = mydf['clean_text'].apply(lambda x: len(x)).max()\n",
    "    \n",
    "train_docs = X_train['clean_text']\n",
    "    \n",
    "tokenizer_train = create_tokenizer(train_docs)\n",
    "\n",
    "encoded_train = tokenizer_train.texts_to_sequences(train_docs)\n",
    "\n",
    "padded_train = pad_sequences(encoded_train, maxlen=max_length_train, padding='post')\n",
    "\n",
    "padded_train_df = pd.DataFrame(padded_train)"
   ]
  },
  {
   "cell_type": "code",
   "execution_count": 12,
   "metadata": {},
   "outputs": [],
   "source": [
    "max_length_test = mydf['clean_text'].apply(lambda x: len(x)).max()\n",
    "    \n",
    "test_docs = X_test['clean_text']\n",
    "    \n",
    "encoded_test = tokenizer_train.texts_to_sequences(test_docs)\n",
    "\n",
    "padded_test = pad_sequences(encoded_test, maxlen=max_length_test, padding='post')\n",
    "\n",
    "padded_test_df = pd.DataFrame(padded_test)    "
   ]
  },
  {
   "cell_type": "markdown",
   "metadata": {},
   "source": [
    "###  Model 1 - CNN With Embedding Layer "
   ]
  },
  {
   "cell_type": "code",
   "execution_count": 13,
   "metadata": {},
   "outputs": [],
   "source": [
    "# define the model\n",
    "def define_model(vocab_size, max_length):\n",
    "    model = Sequential()\n",
    "    model.add(Embedding(vocab_size, 100, input_length=max_length))\n",
    "    model.add(Conv1D(filters=32, kernel_size=8, activation='relu'))\n",
    "    model.add(MaxPooling1D(pool_size=2))\n",
    "    model.add(Flatten())\n",
    "    model.add(Dense(10, activation='relu'))\n",
    "    model.add(Dense(1, activation='sigmoid'))\n",
    "    # compile network\n",
    "    model.compile(loss='binary_crossentropy', optimizer='adam', metrics=['accuracy'])\n",
    "    # summarize defined model\n",
    "    model.summary()\n",
    "    return model"
   ]
  },
  {
   "cell_type": "code",
   "execution_count": 14,
   "metadata": {},
   "outputs": [
    {
     "data": {
      "text/plain": [
       "array([[1., 0.],\n",
       "       [1., 0.],\n",
       "       [1., 0.],\n",
       "       ...,\n",
       "       [1., 0.],\n",
       "       [1., 0.],\n",
       "       [1., 0.]], dtype=float32)"
      ]
     },
     "execution_count": 14,
     "metadata": {},
     "output_type": "execute_result"
    }
   ],
   "source": [
    "y_train[y_train == 'ham'] = 0\n",
    "y_train[y_train == 'spam'] = 1\n",
    "to_categorical(y_train)"
   ]
  },
  {
   "cell_type": "code",
   "execution_count": 15,
   "metadata": {},
   "outputs": [
    {
     "data": {
      "text/plain": [
       "array([[0., 1.],\n",
       "       [1., 0.],\n",
       "       [1., 0.],\n",
       "       ...,\n",
       "       [1., 0.],\n",
       "       [1., 0.],\n",
       "       [1., 0.]], dtype=float32)"
      ]
     },
     "execution_count": 15,
     "metadata": {},
     "output_type": "execute_result"
    }
   ],
   "source": [
    "y_test[y_test == 'ham'] = 0\n",
    "y_test[y_test == 'spam'] = 1\n",
    "to_categorical(y_test)"
   ]
  },
  {
   "cell_type": "code",
   "execution_count": 16,
   "metadata": {},
   "outputs": [
    {
     "data": {
      "text/plain": [
       "81"
      ]
     },
     "execution_count": 16,
     "metadata": {},
     "output_type": "execute_result"
    }
   ],
   "source": [
    "max_length = mydf['clean_text'].apply(lambda x: len(x)).max()\n",
    "max_length"
   ]
  },
  {
   "cell_type": "code",
   "execution_count": 17,
   "metadata": {},
   "outputs": [
    {
     "name": "stdout",
     "output_type": "stream",
     "text": [
      "Vocabulary size: 7507\n"
     ]
    }
   ],
   "source": [
    "# define vocabulary size\n",
    "vocab_size = len(tokenizer_train.word_index) + 1\n",
    "print('Vocabulary size: %d' % vocab_size)"
   ]
  },
  {
   "cell_type": "code",
   "execution_count": 18,
   "metadata": {
    "scrolled": true
   },
   "outputs": [
    {
     "name": "stdout",
     "output_type": "stream",
     "text": [
      "Model: \"sequential_1\"\n",
      "_________________________________________________________________\n",
      "Layer (type)                 Output Shape              Param #   \n",
      "=================================================================\n",
      "embedding_1 (Embedding)      (None, 81, 100)           750700    \n",
      "_________________________________________________________________\n",
      "conv1d_1 (Conv1D)            (None, 74, 32)            25632     \n",
      "_________________________________________________________________\n",
      "max_pooling1d_1 (MaxPooling1 (None, 37, 32)            0         \n",
      "_________________________________________________________________\n",
      "flatten_1 (Flatten)          (None, 1184)              0         \n",
      "_________________________________________________________________\n",
      "dense_1 (Dense)              (None, 10)                11850     \n",
      "_________________________________________________________________\n",
      "dense_2 (Dense)              (None, 1)                 11        \n",
      "=================================================================\n",
      "Total params: 788,193\n",
      "Trainable params: 788,193\n",
      "Non-trainable params: 0\n",
      "_________________________________________________________________\n"
     ]
    }
   ],
   "source": [
    "modelCNN = define_model(vocab_size, max_length)"
   ]
  },
  {
   "cell_type": "code",
   "execution_count": 19,
   "metadata": {
    "scrolled": true
   },
   "outputs": [
    {
     "name": "stderr",
     "output_type": "stream",
     "text": [
      "C:\\Users\\ADMIN\\anaconda3\\envs\\AlexEnv\\lib\\site-packages\\tensorflow_core\\python\\framework\\indexed_slices.py:433: UserWarning: Converting sparse IndexedSlices to a dense Tensor of unknown shape. This may consume a large amount of memory.\n",
      "  \"Converting sparse IndexedSlices to a dense Tensor of unknown shape. \"\n"
     ]
    },
    {
     "name": "stdout",
     "output_type": "stream",
     "text": [
      "Epoch 1/10\n",
      " - 3s - loss: 0.2844 - accuracy: 0.8752\n",
      "Epoch 2/10\n",
      " - 3s - loss: 0.1174 - accuracy: 0.9842\n",
      "Epoch 3/10\n",
      " - 3s - loss: 0.0940 - accuracy: 0.9937\n",
      "Epoch 4/10\n",
      " - 3s - loss: 0.0820 - accuracy: 0.9975\n",
      "Epoch 5/10\n",
      " - 3s - loss: 0.0740 - accuracy: 0.9983\n",
      "Epoch 6/10\n",
      " - 3s - loss: 0.0671 - accuracy: 0.9985\n",
      "Epoch 7/10\n",
      " - 3s - loss: 0.0622 - accuracy: 0.9985\n",
      "Epoch 8/10\n",
      " - 3s - loss: 0.0559 - accuracy: 0.9989\n",
      "Epoch 9/10\n",
      " - 3s - loss: 0.0524 - accuracy: 0.9987\n",
      "Epoch 10/10\n",
      " - 3s - loss: 0.0470 - accuracy: 0.9994\n"
     ]
    },
    {
     "data": {
      "text/plain": [
       "<keras.callbacks.callbacks.History at 0x1b3abfe83c8>"
      ]
     },
     "execution_count": 19,
     "metadata": {},
     "output_type": "execute_result"
    }
   ],
   "source": [
    "modelCNN.fit(padded_train_df, y_train, epochs=10, verbose=2)"
   ]
  },
  {
   "cell_type": "code",
   "execution_count": 20,
   "metadata": {},
   "outputs": [
    {
     "name": "stdout",
     "output_type": "stream",
     "text": [
      "Train Accuracy: 99.957770\n"
     ]
    }
   ],
   "source": [
    "# evaluate model on train dataset\n",
    "_, acc_train = modelCNN.evaluate(padded_train_df, y_train, verbose=0)\n",
    "print('Train Accuracy: %f' % (acc_train*100))"
   ]
  },
  {
   "cell_type": "code",
   "execution_count": 21,
   "metadata": {},
   "outputs": [
    {
     "name": "stdout",
     "output_type": "stream",
     "text": [
      "Test Accuracy: 98.923445\n"
     ]
    }
   ],
   "source": [
    "# evaluate model on test dataset\n",
    "_, acc_test = modelCNN.evaluate(padded_test_df, y_test, verbose=0)\n",
    "print('Test Accuracy: %f' % (acc_test*100))"
   ]
  },
  {
   "cell_type": "code",
   "execution_count": 22,
   "metadata": {},
   "outputs": [],
   "source": [
    "predict_test = np.round(modelCNN.predict(padded_test_df)).astype(int)\n",
    "predict_test = predict_test.flatten()\n",
    "predict_test = pd.Series(predict_test)"
   ]
  },
  {
   "cell_type": "code",
   "execution_count": 23,
   "metadata": {},
   "outputs": [],
   "source": [
    "confusion_matrix(y_test.astype(int), predict_test)\n",
    "tn, fp, fn, tp =confusion_matrix(y_test.astype(int), predict_test).ravel()"
   ]
  },
  {
   "cell_type": "code",
   "execution_count": 24,
   "metadata": {
    "scrolled": true
   },
   "outputs": [
    {
     "name": "stdout",
     "output_type": "stream",
     "text": [
      "Test F1 Score: 95.890411\n"
     ]
    }
   ],
   "source": [
    "f1 = f1_score(y_test.astype(int), predict_test)\n",
    "print('Test F1 Score: %f' % (f1*100))"
   ]
  },
  {
   "cell_type": "markdown",
   "metadata": {},
   "source": [
    "Model 1 is CNN With Embedding Layer.\n",
    "\n",
    "Model 1 has 100% Accuracy on Trainset and 98.9% Accuracy on Testset. \n",
    "\n",
    "The Dataset is Imbalanced so F1-Score of Model 1 on Testset is 96.0%."
   ]
  },
  {
   "cell_type": "markdown",
   "metadata": {},
   "source": [
    "### Tuning Model 1"
   ]
  },
  {
   "cell_type": "markdown",
   "metadata": {},
   "source": [
    "Tuning Parameters Batch_Size and Epochs for Model 1 for Better Deep Learning model performance"
   ]
  },
  {
   "cell_type": "code",
   "execution_count": 25,
   "metadata": {},
   "outputs": [],
   "source": [
    "# define the model\n",
    "def define_model1():\n",
    "    model = Sequential()\n",
    "    model.add(Embedding(vocab_size, 100, input_length=max_length))\n",
    "    model.add(Conv1D(filters=32, kernel_size=8, activation='relu'))\n",
    "    model.add(MaxPooling1D(pool_size=2))\n",
    "    model.add(Flatten())\n",
    "    model.add(Dense(10, activation='relu'))\n",
    "    model.add(Dense(1, activation='sigmoid'))\n",
    "    # compile network\n",
    "    model.compile(loss='binary_crossentropy', optimizer='adam', metrics=['accuracy'])\n",
    "    # summarize defined model\n",
    "    model.summary()\n",
    "    return model"
   ]
  },
  {
   "cell_type": "code",
   "execution_count": 26,
   "metadata": {},
   "outputs": [],
   "source": [
    "# Create a KerasClassifier\n",
    "model1 = KerasClassifier(build_fn = define_model1)"
   ]
  },
  {
   "cell_type": "code",
   "execution_count": 30,
   "metadata": {},
   "outputs": [],
   "source": [
    "# Define the parameters to try out\n",
    "params1 = {   \n",
    "            'batch_size': [6,10,14,18], \n",
    "            'epochs': [2,4,6,8,10]\n",
    "          }"
   ]
  },
  {
   "cell_type": "code",
   "execution_count": 31,
   "metadata": {},
   "outputs": [],
   "source": [
    "random_search1 = RandomizedSearchCV(model1, param_distributions = params1, cv = KFold(5))"
   ]
  },
  {
   "cell_type": "code",
   "execution_count": 32,
   "metadata": {
    "scrolled": true
   },
   "outputs": [
    {
     "name": "stdout",
     "output_type": "stream",
     "text": [
      "Model: \"sequential_2\"\n",
      "_________________________________________________________________\n",
      "Layer (type)                 Output Shape              Param #   \n",
      "=================================================================\n",
      "embedding_2 (Embedding)      (None, 81, 100)           750700    \n",
      "_________________________________________________________________\n",
      "conv1d_2 (Conv1D)            (None, 74, 32)            25632     \n",
      "_________________________________________________________________\n",
      "max_pooling1d_2 (MaxPooling1 (None, 37, 32)            0         \n",
      "_________________________________________________________________\n",
      "flatten_2 (Flatten)          (None, 1184)              0         \n",
      "_________________________________________________________________\n",
      "dense_3 (Dense)              (None, 10)                11850     \n",
      "_________________________________________________________________\n",
      "dense_4 (Dense)              (None, 1)                 11        \n",
      "=================================================================\n",
      "Total params: 788,193\n",
      "Trainable params: 788,193\n",
      "Non-trainable params: 0\n",
      "_________________________________________________________________\n"
     ]
    },
    {
     "name": "stderr",
     "output_type": "stream",
     "text": [
      "C:\\Users\\ADMIN\\anaconda3\\envs\\AlexEnv\\lib\\site-packages\\tensorflow_core\\python\\framework\\indexed_slices.py:433: UserWarning: Converting sparse IndexedSlices to a dense Tensor of unknown shape. This may consume a large amount of memory.\n",
      "  \"Converting sparse IndexedSlices to a dense Tensor of unknown shape. \"\n"
     ]
    },
    {
     "name": "stdout",
     "output_type": "stream",
     "text": [
      "Epoch 1/8\n",
      "3788/3788 [==============================] - 5s 1ms/step - loss: 0.1986 - accuracy: 0.9205\n",
      "Epoch 2/8\n",
      "3788/3788 [==============================] - 5s 1ms/step - loss: 0.0289 - accuracy: 0.9926\n",
      "Epoch 3/8\n",
      "3788/3788 [==============================] - 5s 1ms/step - loss: 0.0059 - accuracy: 0.9989\n",
      "Epoch 4/8\n",
      "3788/3788 [==============================] - 5s 1ms/step - loss: 0.0033 - accuracy: 0.9992\n",
      "Epoch 5/8\n",
      "3788/3788 [==============================] - 5s 1ms/step - loss: 0.0020 - accuracy: 0.9995\n",
      "Epoch 6/8\n",
      "3788/3788 [==============================] - 5s 1ms/step - loss: 0.0018 - accuracy: 0.9997\n",
      "Epoch 7/8\n",
      "3788/3788 [==============================] - 5s 1ms/step - loss: 0.0016 - accuracy: 0.9995\n",
      "Epoch 8/8\n",
      "3788/3788 [==============================] - 5s 1ms/step - loss: 0.0012 - accuracy: 0.9997\n",
      "948/948 [==============================] - 0s 189us/step\n",
      "Model: \"sequential_3\"\n",
      "_________________________________________________________________\n",
      "Layer (type)                 Output Shape              Param #   \n",
      "=================================================================\n",
      "embedding_3 (Embedding)      (None, 81, 100)           750700    \n",
      "_________________________________________________________________\n",
      "conv1d_3 (Conv1D)            (None, 74, 32)            25632     \n",
      "_________________________________________________________________\n",
      "max_pooling1d_3 (MaxPooling1 (None, 37, 32)            0         \n",
      "_________________________________________________________________\n",
      "flatten_3 (Flatten)          (None, 1184)              0         \n",
      "_________________________________________________________________\n",
      "dense_5 (Dense)              (None, 10)                11850     \n",
      "_________________________________________________________________\n",
      "dense_6 (Dense)              (None, 1)                 11        \n",
      "=================================================================\n",
      "Total params: 788,193\n",
      "Trainable params: 788,193\n",
      "Non-trainable params: 0\n",
      "_________________________________________________________________\n"
     ]
    },
    {
     "name": "stderr",
     "output_type": "stream",
     "text": [
      "C:\\Users\\ADMIN\\anaconda3\\envs\\AlexEnv\\lib\\site-packages\\tensorflow_core\\python\\framework\\indexed_slices.py:433: UserWarning: Converting sparse IndexedSlices to a dense Tensor of unknown shape. This may consume a large amount of memory.\n",
      "  \"Converting sparse IndexedSlices to a dense Tensor of unknown shape. \"\n"
     ]
    },
    {
     "name": "stdout",
     "output_type": "stream",
     "text": [
      "Epoch 1/8\n",
      "3789/3789 [==============================] - 5s 1ms/step - loss: 0.2247 - accuracy: 0.9232\n",
      "Epoch 2/8\n",
      "3789/3789 [==============================] - 5s 1ms/step - loss: 0.0743 - accuracy: 0.9913\n",
      "Epoch 3/8\n",
      "3789/3789 [==============================] - 5s 1ms/step - loss: 0.0146 - accuracy: 0.9968\n",
      "Epoch 4/8\n",
      "3789/3789 [==============================] - 5s 1ms/step - loss: 0.0059 - accuracy: 0.9987\n",
      "Epoch 5/8\n",
      "3789/3789 [==============================] - 5s 1ms/step - loss: 0.0033 - accuracy: 0.9995\n",
      "Epoch 6/8\n",
      "3789/3789 [==============================] - 5s 1ms/step - loss: 0.0036 - accuracy: 0.9992\n",
      "Epoch 7/8\n",
      "3789/3789 [==============================] - 5s 1ms/step - loss: 0.0028 - accuracy: 0.9995\n",
      "Epoch 8/8\n",
      "3789/3789 [==============================] - 5s 1ms/step - loss: 0.0014 - accuracy: 0.9997\n",
      "947/947 [==============================] - 0s 167us/step\n",
      "Model: \"sequential_4\"\n",
      "_________________________________________________________________\n",
      "Layer (type)                 Output Shape              Param #   \n",
      "=================================================================\n",
      "embedding_4 (Embedding)      (None, 81, 100)           750700    \n",
      "_________________________________________________________________\n",
      "conv1d_4 (Conv1D)            (None, 74, 32)            25632     \n",
      "_________________________________________________________________\n",
      "max_pooling1d_4 (MaxPooling1 (None, 37, 32)            0         \n",
      "_________________________________________________________________\n",
      "flatten_4 (Flatten)          (None, 1184)              0         \n",
      "_________________________________________________________________\n",
      "dense_7 (Dense)              (None, 10)                11850     \n",
      "_________________________________________________________________\n",
      "dense_8 (Dense)              (None, 1)                 11        \n",
      "=================================================================\n",
      "Total params: 788,193\n",
      "Trainable params: 788,193\n",
      "Non-trainable params: 0\n",
      "_________________________________________________________________\n"
     ]
    },
    {
     "name": "stderr",
     "output_type": "stream",
     "text": [
      "C:\\Users\\ADMIN\\anaconda3\\envs\\AlexEnv\\lib\\site-packages\\tensorflow_core\\python\\framework\\indexed_slices.py:433: UserWarning: Converting sparse IndexedSlices to a dense Tensor of unknown shape. This may consume a large amount of memory.\n",
      "  \"Converting sparse IndexedSlices to a dense Tensor of unknown shape. \"\n"
     ]
    },
    {
     "name": "stdout",
     "output_type": "stream",
     "text": [
      "Epoch 1/8\n",
      "3789/3789 [==============================] - 5s 1ms/step - loss: 0.2218 - accuracy: 0.9219\n",
      "Epoch 2/8\n",
      "3789/3789 [==============================] - 5s 1ms/step - loss: 0.1051 - accuracy: 0.9900\n",
      "Epoch 3/8\n",
      "3789/3789 [==============================] - 5s 1ms/step - loss: 0.0569 - accuracy: 0.9952\n",
      "Epoch 4/8\n",
      "3789/3789 [==============================] - 5s 1ms/step - loss: 0.0108 - accuracy: 0.9971\n",
      "Epoch 5/8\n",
      "3789/3789 [==============================] - 5s 1ms/step - loss: 0.0032 - accuracy: 0.9995\n",
      "Epoch 6/8\n",
      "3789/3789 [==============================] - 5s 1ms/step - loss: 0.0020 - accuracy: 0.9997\n",
      "Epoch 7/8\n",
      "3789/3789 [==============================] - 5s 1ms/step - loss: 0.0017 - accuracy: 0.9997\n",
      "Epoch 8/8\n",
      "3789/3789 [==============================] - 6s 1ms/step - loss: 0.0018 - accuracy: 0.9995\n",
      "947/947 [==============================] - 0s 211us/step\n",
      "Model: \"sequential_5\"\n",
      "_________________________________________________________________\n",
      "Layer (type)                 Output Shape              Param #   \n",
      "=================================================================\n",
      "embedding_5 (Embedding)      (None, 81, 100)           750700    \n",
      "_________________________________________________________________\n",
      "conv1d_5 (Conv1D)            (None, 74, 32)            25632     \n",
      "_________________________________________________________________\n",
      "max_pooling1d_5 (MaxPooling1 (None, 37, 32)            0         \n",
      "_________________________________________________________________\n",
      "flatten_5 (Flatten)          (None, 1184)              0         \n",
      "_________________________________________________________________\n",
      "dense_9 (Dense)              (None, 10)                11850     \n",
      "_________________________________________________________________\n",
      "dense_10 (Dense)             (None, 1)                 11        \n",
      "=================================================================\n",
      "Total params: 788,193\n",
      "Trainable params: 788,193\n",
      "Non-trainable params: 0\n",
      "_________________________________________________________________\n"
     ]
    },
    {
     "name": "stderr",
     "output_type": "stream",
     "text": [
      "C:\\Users\\ADMIN\\anaconda3\\envs\\AlexEnv\\lib\\site-packages\\tensorflow_core\\python\\framework\\indexed_slices.py:433: UserWarning: Converting sparse IndexedSlices to a dense Tensor of unknown shape. This may consume a large amount of memory.\n",
      "  \"Converting sparse IndexedSlices to a dense Tensor of unknown shape. \"\n"
     ]
    },
    {
     "name": "stdout",
     "output_type": "stream",
     "text": [
      "Epoch 1/8\n",
      "3789/3789 [==============================] - 5s 1ms/step - loss: 0.2241 - accuracy: 0.9155\n",
      "Epoch 2/8\n",
      "3789/3789 [==============================] - 5s 1ms/step - loss: 0.0998 - accuracy: 0.9934\n",
      "Epoch 3/8\n",
      "3789/3789 [==============================] - 5s 1ms/step - loss: 0.0777 - accuracy: 0.9979\n",
      "Epoch 4/8\n",
      "3789/3789 [==============================] - ETA: 0s - loss: 0.0670 - accuracy: 0.99 - 5s 1ms/step - loss: 0.0667 - accuracy: 0.9987\n",
      "Epoch 5/8\n",
      "3789/3789 [==============================] - 5s 1ms/step - loss: 0.0436 - accuracy: 0.9997\n",
      "Epoch 6/8\n",
      "3789/3789 [==============================] - 5s 1ms/step - loss: 0.0017 - accuracy: 0.9997 ETA: 3s - loss: 1.728\n",
      "Epoch 7/8\n",
      "3789/3789 [==============================] - 5s 1ms/step - loss: 9.0033e-04 - accuracy: 0.9997\n",
      "Epoch 8/8\n",
      "3789/3789 [==============================] - 5s 1ms/step - loss: 1.7885e-04 - accuracy: 1.0000\n",
      "947/947 [==============================] - 0s 167us/step\n",
      "Model: \"sequential_6\"\n",
      "_________________________________________________________________\n",
      "Layer (type)                 Output Shape              Param #   \n",
      "=================================================================\n",
      "embedding_6 (Embedding)      (None, 81, 100)           750700    \n",
      "_________________________________________________________________\n",
      "conv1d_6 (Conv1D)            (None, 74, 32)            25632     \n",
      "_________________________________________________________________\n",
      "max_pooling1d_6 (MaxPooling1 (None, 37, 32)            0         \n",
      "_________________________________________________________________\n",
      "flatten_6 (Flatten)          (None, 1184)              0         \n",
      "_________________________________________________________________\n",
      "dense_11 (Dense)             (None, 10)                11850     \n",
      "_________________________________________________________________\n",
      "dense_12 (Dense)             (None, 1)                 11        \n",
      "=================================================================\n",
      "Total params: 788,193\n",
      "Trainable params: 788,193\n",
      "Non-trainable params: 0\n",
      "_________________________________________________________________\n"
     ]
    },
    {
     "name": "stderr",
     "output_type": "stream",
     "text": [
      "C:\\Users\\ADMIN\\anaconda3\\envs\\AlexEnv\\lib\\site-packages\\tensorflow_core\\python\\framework\\indexed_slices.py:433: UserWarning: Converting sparse IndexedSlices to a dense Tensor of unknown shape. This may consume a large amount of memory.\n",
      "  \"Converting sparse IndexedSlices to a dense Tensor of unknown shape. \"\n"
     ]
    },
    {
     "name": "stdout",
     "output_type": "stream",
     "text": [
      "Epoch 1/8\n",
      "3789/3789 [==============================] - 5s 1ms/step - loss: 0.1719 - accuracy: 0.9393\n",
      "Epoch 2/8\n",
      "3789/3789 [==============================] - 5s 1ms/step - loss: 0.0243 - accuracy: 0.9923\n",
      "Epoch 3/8\n",
      "3789/3789 [==============================] - 5s 1ms/step - loss: 0.0081 - accuracy: 0.9984\n",
      "Epoch 4/8\n",
      "3789/3789 [==============================] - 5s 1ms/step - loss: 0.0033 - accuracy: 0.9995\n",
      "Epoch 5/8\n",
      "3789/3789 [==============================] - 5s 1ms/step - loss: 0.0028 - accuracy: 0.9995\n",
      "Epoch 6/8\n",
      "3789/3789 [==============================] - 5s 1ms/step - loss: 0.0022 - accuracy: 0.9997\n",
      "Epoch 7/8\n",
      "3789/3789 [==============================] - 5s 1ms/step - loss: 0.0025 - accuracy: 0.9997\n",
      "Epoch 8/8\n",
      "3789/3789 [==============================] - 5s 1ms/step - loss: 0.0021 - accuracy: 0.9997\n",
      "947/947 [==============================] - 0s 169us/step\n",
      "Model: \"sequential_7\"\n",
      "_________________________________________________________________\n",
      "Layer (type)                 Output Shape              Param #   \n",
      "=================================================================\n",
      "embedding_7 (Embedding)      (None, 81, 100)           750700    \n",
      "_________________________________________________________________\n",
      "conv1d_7 (Conv1D)            (None, 74, 32)            25632     \n",
      "_________________________________________________________________\n",
      "max_pooling1d_7 (MaxPooling1 (None, 37, 32)            0         \n",
      "_________________________________________________________________\n",
      "flatten_7 (Flatten)          (None, 1184)              0         \n",
      "_________________________________________________________________\n",
      "dense_13 (Dense)             (None, 10)                11850     \n",
      "_________________________________________________________________\n",
      "dense_14 (Dense)             (None, 1)                 11        \n",
      "=================================================================\n",
      "Total params: 788,193\n",
      "Trainable params: 788,193\n",
      "Non-trainable params: 0\n",
      "_________________________________________________________________\n"
     ]
    },
    {
     "name": "stderr",
     "output_type": "stream",
     "text": [
      "C:\\Users\\ADMIN\\anaconda3\\envs\\AlexEnv\\lib\\site-packages\\tensorflow_core\\python\\framework\\indexed_slices.py:433: UserWarning: Converting sparse IndexedSlices to a dense Tensor of unknown shape. This may consume a large amount of memory.\n",
      "  \"Converting sparse IndexedSlices to a dense Tensor of unknown shape. \"\n"
     ]
    },
    {
     "name": "stdout",
     "output_type": "stream",
     "text": [
      "Epoch 1/10\n",
      "3788/3788 [==============================] - 4s 1ms/step - loss: 0.2560 - accuracy: 0.8989\n",
      "Epoch 2/10\n",
      "3788/3788 [==============================] - 4s 1ms/step - loss: 0.1112 - accuracy: 0.9865\n",
      "Epoch 3/10\n",
      "3788/3788 [==============================] - 4s 1ms/step - loss: 0.0857 - accuracy: 0.9950\n",
      "Epoch 4/10\n",
      "3788/3788 [==============================] - 4s 1ms/step - loss: 0.0743 - accuracy: 0.9971\n",
      "Epoch 5/10\n",
      "3788/3788 [==============================] - 4s 1ms/step - loss: 0.0653 - accuracy: 0.9974\n",
      "Epoch 6/10\n",
      "3788/3788 [==============================] - 4s 1ms/step - loss: 0.0583 - accuracy: 0.9987\n",
      "Epoch 7/10\n",
      "3788/3788 [==============================] - 4s 1ms/step - loss: 0.0512 - accuracy: 0.9989\n",
      "Epoch 8/10\n",
      "3788/3788 [==============================] - 4s 1ms/step - loss: 0.0462 - accuracy: 0.9989\n",
      "Epoch 9/10\n",
      "3788/3788 [==============================] - 4s 1ms/step - loss: 0.0408 - accuracy: 0.9992\n",
      "Epoch 10/10\n",
      "3788/3788 [==============================] - 4s 1ms/step - loss: 0.0371 - accuracy: 0.9992\n",
      "948/948 [==============================] - 0s 108us/step\n",
      "Model: \"sequential_8\"\n",
      "_________________________________________________________________\n",
      "Layer (type)                 Output Shape              Param #   \n",
      "=================================================================\n",
      "embedding_8 (Embedding)      (None, 81, 100)           750700    \n",
      "_________________________________________________________________\n",
      "conv1d_8 (Conv1D)            (None, 74, 32)            25632     \n",
      "_________________________________________________________________\n",
      "max_pooling1d_8 (MaxPooling1 (None, 37, 32)            0         \n",
      "_________________________________________________________________\n",
      "flatten_8 (Flatten)          (None, 1184)              0         \n",
      "_________________________________________________________________\n",
      "dense_15 (Dense)             (None, 10)                11850     \n",
      "_________________________________________________________________\n",
      "dense_16 (Dense)             (None, 1)                 11        \n",
      "=================================================================\n",
      "Total params: 788,193\n",
      "Trainable params: 788,193\n",
      "Non-trainable params: 0\n",
      "_________________________________________________________________\n"
     ]
    },
    {
     "name": "stderr",
     "output_type": "stream",
     "text": [
      "C:\\Users\\ADMIN\\anaconda3\\envs\\AlexEnv\\lib\\site-packages\\tensorflow_core\\python\\framework\\indexed_slices.py:433: UserWarning: Converting sparse IndexedSlices to a dense Tensor of unknown shape. This may consume a large amount of memory.\n",
      "  \"Converting sparse IndexedSlices to a dense Tensor of unknown shape. \"\n"
     ]
    },
    {
     "name": "stdout",
     "output_type": "stream",
     "text": [
      "Epoch 1/10\n",
      "3789/3789 [==============================] - 4s 1ms/step - loss: 0.2329 - accuracy: 0.9158\n",
      "Epoch 2/10\n",
      "3789/3789 [==============================] - 4s 1ms/step - loss: 0.1074 - accuracy: 0.9889\n",
      "Epoch 3/10\n",
      "3789/3789 [==============================] - 4s 1ms/step - loss: 0.0860 - accuracy: 0.9955\n",
      "Epoch 4/10\n",
      "3789/3789 [==============================] - 4s 1ms/step - loss: 0.0747 - accuracy: 0.9976\n",
      "Epoch 5/10\n",
      "3789/3789 [==============================] - 4s 1ms/step - loss: 0.0655 - accuracy: 0.9982\n",
      "Epoch 6/10\n",
      "3789/3789 [==============================] - 4s 1ms/step - loss: 0.0583 - accuracy: 0.9984\n",
      "Epoch 7/10\n",
      "3789/3789 [==============================] - 4s 1ms/step - loss: 0.0517 - accuracy: 0.9984\n",
      "Epoch 8/10\n",
      "3789/3789 [==============================] - 4s 1ms/step - loss: 0.0466 - accuracy: 0.9984\n",
      "Epoch 9/10\n",
      "3789/3789 [==============================] - 4s 1ms/step - loss: 0.0115 - accuracy: 0.9976\n",
      "Epoch 10/10\n",
      "3789/3789 [==============================] - 4s 1ms/step - loss: 0.0030 - accuracy: 0.9995\n",
      "947/947 [==============================] - 0s 126us/step\n",
      "Model: \"sequential_9\"\n",
      "_________________________________________________________________\n",
      "Layer (type)                 Output Shape              Param #   \n",
      "=================================================================\n",
      "embedding_9 (Embedding)      (None, 81, 100)           750700    \n",
      "_________________________________________________________________\n",
      "conv1d_9 (Conv1D)            (None, 74, 32)            25632     \n",
      "_________________________________________________________________\n",
      "max_pooling1d_9 (MaxPooling1 (None, 37, 32)            0         \n",
      "_________________________________________________________________\n",
      "flatten_9 (Flatten)          (None, 1184)              0         \n",
      "_________________________________________________________________\n",
      "dense_17 (Dense)             (None, 10)                11850     \n",
      "_________________________________________________________________\n",
      "dense_18 (Dense)             (None, 1)                 11        \n",
      "=================================================================\n",
      "Total params: 788,193\n",
      "Trainable params: 788,193\n",
      "Non-trainable params: 0\n",
      "_________________________________________________________________\n"
     ]
    },
    {
     "name": "stderr",
     "output_type": "stream",
     "text": [
      "C:\\Users\\ADMIN\\anaconda3\\envs\\AlexEnv\\lib\\site-packages\\tensorflow_core\\python\\framework\\indexed_slices.py:433: UserWarning: Converting sparse IndexedSlices to a dense Tensor of unknown shape. This may consume a large amount of memory.\n",
      "  \"Converting sparse IndexedSlices to a dense Tensor of unknown shape. \"\n"
     ]
    },
    {
     "name": "stdout",
     "output_type": "stream",
     "text": [
      "Epoch 1/10\n",
      "3789/3789 [==============================] - 4s 1ms/step - loss: 0.2342 - accuracy: 0.9148\n",
      "Epoch 2/10\n",
      "3789/3789 [==============================] - 4s 1ms/step - loss: 0.1044 - accuracy: 0.9905\n",
      "Epoch 3/10\n",
      "3789/3789 [==============================] - 4s 1ms/step - loss: 0.0839 - accuracy: 0.9952\n",
      "Epoch 4/10\n",
      "3789/3789 [==============================] - 4s 1ms/step - loss: 0.0720 - accuracy: 0.9971\n",
      "Epoch 5/10\n",
      "3789/3789 [==============================] - 4s 1ms/step - loss: 0.0645 - accuracy: 0.9979\n",
      "Epoch 6/10\n",
      "3789/3789 [==============================] - 4s 1ms/step - loss: 0.0554 - accuracy: 0.9987\n",
      "Epoch 7/10\n",
      "3789/3789 [==============================] - 4s 1ms/step - loss: 0.0488 - accuracy: 0.9992\n",
      "Epoch 8/10\n",
      "3789/3789 [==============================] - 4s 1ms/step - loss: 0.0438 - accuracy: 0.9992\n",
      "Epoch 9/10\n",
      "3789/3789 [==============================] - 4s 1ms/step - loss: 0.0388 - accuracy: 0.9995\n",
      "Epoch 10/10\n",
      "3789/3789 [==============================] - 4s 1ms/step - loss: 0.0361 - accuracy: 0.9987\n",
      "947/947 [==============================] - 0s 110us/step\n",
      "Model: \"sequential_10\"\n",
      "_________________________________________________________________\n",
      "Layer (type)                 Output Shape              Param #   \n",
      "=================================================================\n",
      "embedding_10 (Embedding)     (None, 81, 100)           750700    \n",
      "_________________________________________________________________\n",
      "conv1d_10 (Conv1D)           (None, 74, 32)            25632     \n",
      "_________________________________________________________________\n",
      "max_pooling1d_10 (MaxPooling (None, 37, 32)            0         \n",
      "_________________________________________________________________\n",
      "flatten_10 (Flatten)         (None, 1184)              0         \n",
      "_________________________________________________________________\n",
      "dense_19 (Dense)             (None, 10)                11850     \n",
      "_________________________________________________________________\n",
      "dense_20 (Dense)             (None, 1)                 11        \n",
      "=================================================================\n",
      "Total params: 788,193\n",
      "Trainable params: 788,193\n",
      "Non-trainable params: 0\n",
      "_________________________________________________________________\n"
     ]
    },
    {
     "name": "stderr",
     "output_type": "stream",
     "text": [
      "C:\\Users\\ADMIN\\anaconda3\\envs\\AlexEnv\\lib\\site-packages\\tensorflow_core\\python\\framework\\indexed_slices.py:433: UserWarning: Converting sparse IndexedSlices to a dense Tensor of unknown shape. This may consume a large amount of memory.\n",
      "  \"Converting sparse IndexedSlices to a dense Tensor of unknown shape. \"\n"
     ]
    },
    {
     "name": "stdout",
     "output_type": "stream",
     "text": [
      "Epoch 1/10\n",
      "3789/3789 [==============================] - 4s 1ms/step - loss: 0.2343 - accuracy: 0.9150\n",
      "Epoch 2/10\n",
      "3789/3789 [==============================] - 4s 1ms/step - loss: 0.1018 - accuracy: 0.9892\n",
      "Epoch 3/10\n",
      "3789/3789 [==============================] - 4s 1ms/step - loss: 0.0285 - accuracy: 0.9955\n",
      "Epoch 4/10\n",
      "3789/3789 [==============================] - 4s 1ms/step - loss: 0.0041 - accuracy: 0.9992\n",
      "Epoch 5/10\n",
      "3789/3789 [==============================] - 4s 1ms/step - loss: 0.0023 - accuracy: 0.9995\n",
      "Epoch 6/10\n",
      "3789/3789 [==============================] - 4s 1ms/step - loss: 0.0018 - accuracy: 0.9997\n",
      "Epoch 7/10\n",
      "3789/3789 [==============================] - 4s 1ms/step - loss: 0.0013 - accuracy: 0.9997\n",
      "Epoch 8/10\n",
      "3789/3789 [==============================] - 4s 1ms/step - loss: 9.8121e-04 - accuracy: 0.9997\n",
      "Epoch 9/10\n",
      "3789/3789 [==============================] - 4s 1ms/step - loss: 3.2913e-04 - accuracy: 0.9997\n",
      "Epoch 10/10\n",
      "3789/3789 [==============================] - 4s 1ms/step - loss: 8.2907e-04 - accuracy: 0.9997\n",
      "947/947 [==============================] - 0s 118us/step\n",
      "Model: \"sequential_11\"\n",
      "_________________________________________________________________\n",
      "Layer (type)                 Output Shape              Param #   \n",
      "=================================================================\n",
      "embedding_11 (Embedding)     (None, 81, 100)           750700    \n",
      "_________________________________________________________________\n",
      "conv1d_11 (Conv1D)           (None, 74, 32)            25632     \n",
      "_________________________________________________________________\n",
      "max_pooling1d_11 (MaxPooling (None, 37, 32)            0         \n",
      "_________________________________________________________________\n",
      "flatten_11 (Flatten)         (None, 1184)              0         \n",
      "_________________________________________________________________\n",
      "dense_21 (Dense)             (None, 10)                11850     \n",
      "_________________________________________________________________\n",
      "dense_22 (Dense)             (None, 1)                 11        \n",
      "=================================================================\n",
      "Total params: 788,193\n",
      "Trainable params: 788,193\n",
      "Non-trainable params: 0\n",
      "_________________________________________________________________\n"
     ]
    },
    {
     "name": "stderr",
     "output_type": "stream",
     "text": [
      "C:\\Users\\ADMIN\\anaconda3\\envs\\AlexEnv\\lib\\site-packages\\tensorflow_core\\python\\framework\\indexed_slices.py:433: UserWarning: Converting sparse IndexedSlices to a dense Tensor of unknown shape. This may consume a large amount of memory.\n",
      "  \"Converting sparse IndexedSlices to a dense Tensor of unknown shape. \"\n"
     ]
    },
    {
     "name": "stdout",
     "output_type": "stream",
     "text": [
      "Epoch 1/10\n",
      "3789/3789 [==============================] - 4s 1ms/step - loss: 0.2347 - accuracy: 0.9129TA: 0s - loss: 0.2\n",
      "Epoch 2/10\n",
      "3789/3789 [==============================] - 4s 1ms/step - loss: 0.1075 - accuracy: 0.9910: 0s - loss: 0.104\n",
      "Epoch 3/10\n",
      "3789/3789 [==============================] - 4s 1ms/step - loss: 0.0858 - accuracy: 0.9950\n",
      "Epoch 4/10\n",
      "3789/3789 [==============================] - 4s 1ms/step - loss: 0.0718 - accuracy: 0.9974\n",
      "Epoch 5/10\n",
      "3789/3789 [==============================] - 4s 1ms/step - loss: 0.0635 - accuracy: 0.9979: 1s - ETA: 0s - loss: 0.0648 - accuracy\n",
      "Epoch 6/10\n",
      "3789/3789 [==============================] - 4s 1ms/step - loss: 0.0569 - accuracy: 0.9984\n",
      "Epoch 7/10\n",
      "3789/3789 [==============================] - 4s 1ms/step - loss: 0.0510 - accuracy: 0.9984\n",
      "Epoch 8/10\n",
      "3789/3789 [==============================] - 4s 1ms/step - loss: 0.0453 - accuracy: 0.9989\n",
      "Epoch 9/10\n",
      "3789/3789 [==============================] - 4s 1ms/step - loss: 0.0404 - accuracy: 0.9989\n",
      "Epoch 10/10\n",
      "3789/3789 [==============================] - 4s 1ms/step - loss: 0.0372 - accuracy: 0.9989\n",
      "947/947 [==============================] - 0s 115us/step\n",
      "Model: \"sequential_12\"\n",
      "_________________________________________________________________\n",
      "Layer (type)                 Output Shape              Param #   \n",
      "=================================================================\n",
      "embedding_12 (Embedding)     (None, 81, 100)           750700    \n",
      "_________________________________________________________________\n",
      "conv1d_12 (Conv1D)           (None, 74, 32)            25632     \n",
      "_________________________________________________________________\n",
      "max_pooling1d_12 (MaxPooling (None, 37, 32)            0         \n",
      "_________________________________________________________________\n",
      "flatten_12 (Flatten)         (None, 1184)              0         \n",
      "_________________________________________________________________\n",
      "dense_23 (Dense)             (None, 10)                11850     \n",
      "_________________________________________________________________\n",
      "dense_24 (Dense)             (None, 1)                 11        \n",
      "=================================================================\n",
      "Total params: 788,193\n",
      "Trainable params: 788,193\n",
      "Non-trainable params: 0\n",
      "_________________________________________________________________\n"
     ]
    },
    {
     "name": "stderr",
     "output_type": "stream",
     "text": [
      "C:\\Users\\ADMIN\\anaconda3\\envs\\AlexEnv\\lib\\site-packages\\tensorflow_core\\python\\framework\\indexed_slices.py:433: UserWarning: Converting sparse IndexedSlices to a dense Tensor of unknown shape. This may consume a large amount of memory.\n",
      "  \"Converting sparse IndexedSlices to a dense Tensor of unknown shape. \"\n"
     ]
    },
    {
     "name": "stdout",
     "output_type": "stream",
     "text": [
      "Epoch 1/10\n",
      "3788/3788 [==============================] - 7s 2ms/step - loss: 0.2055 - accuracy: 0.9340\n",
      "Epoch 2/10\n",
      "3788/3788 [==============================] - 7s 2ms/step - loss: 0.0947 - accuracy: 0.9916\n",
      "Epoch 3/10\n",
      "3788/3788 [==============================] - 7s 2ms/step - loss: 0.0701 - accuracy: 0.9968\n",
      "Epoch 4/10\n",
      "3788/3788 [==============================] - 7s 2ms/step - loss: 0.0581 - accuracy: 0.9984\n",
      "Epoch 5/10\n",
      "3788/3788 [==============================] - 7s 2ms/step - loss: 0.0478 - accuracy: 0.9987\n",
      "Epoch 6/10\n",
      "3788/3788 [==============================] - 7s 2ms/step - loss: 0.0397 - accuracy: 0.9989\n",
      "Epoch 7/10\n",
      "3788/3788 [==============================] - 7s 2ms/step - loss: 0.0066 - accuracy: 0.9989\n",
      "Epoch 8/10\n",
      "3788/3788 [==============================] - 7s 2ms/step - loss: 0.0032 - accuracy: 0.9989\n",
      "Epoch 9/10\n",
      "3788/3788 [==============================] - 7s 2ms/step - loss: 9.7931e-04 - accuracy: 0.9997 - loss: 0.001\n",
      "Epoch 10/10\n",
      "3788/3788 [==============================] - 6s 2ms/step - loss: 0.0016 - accuracy: 0.9995\n",
      "948/948 [==============================] - 0s 190us/step\n",
      "Model: \"sequential_13\"\n",
      "_________________________________________________________________\n",
      "Layer (type)                 Output Shape              Param #   \n",
      "=================================================================\n",
      "embedding_13 (Embedding)     (None, 81, 100)           750700    \n",
      "_________________________________________________________________\n",
      "conv1d_13 (Conv1D)           (None, 74, 32)            25632     \n",
      "_________________________________________________________________\n",
      "max_pooling1d_13 (MaxPooling (None, 37, 32)            0         \n",
      "_________________________________________________________________\n",
      "flatten_13 (Flatten)         (None, 1184)              0         \n",
      "_________________________________________________________________\n",
      "dense_25 (Dense)             (None, 10)                11850     \n",
      "_________________________________________________________________\n",
      "dense_26 (Dense)             (None, 1)                 11        \n",
      "=================================================================\n",
      "Total params: 788,193\n",
      "Trainable params: 788,193\n",
      "Non-trainable params: 0\n",
      "_________________________________________________________________\n"
     ]
    },
    {
     "name": "stderr",
     "output_type": "stream",
     "text": [
      "C:\\Users\\ADMIN\\anaconda3\\envs\\AlexEnv\\lib\\site-packages\\tensorflow_core\\python\\framework\\indexed_slices.py:433: UserWarning: Converting sparse IndexedSlices to a dense Tensor of unknown shape. This may consume a large amount of memory.\n",
      "  \"Converting sparse IndexedSlices to a dense Tensor of unknown shape. \"\n"
     ]
    },
    {
     "name": "stdout",
     "output_type": "stream",
     "text": [
      "Epoch 1/10\n",
      "3789/3789 [==============================] - 7s 2ms/step - loss: 0.2118 - accuracy: 0.9293\n",
      "Epoch 2/10\n",
      "3789/3789 [==============================] - 6s 2ms/step - loss: 0.0965 - accuracy: 0.9910\n",
      "Epoch 3/10\n",
      "3789/3789 [==============================] - 6s 2ms/step - loss: 0.0734 - accuracy: 0.9963\n",
      "Epoch 4/10\n",
      "3789/3789 [==============================] - 6s 2ms/step - loss: 0.0479 - accuracy: 0.9974\n",
      "Epoch 5/10\n",
      "3789/3789 [==============================] - 6s 2ms/step - loss: 0.0105 - accuracy: 0.9974\n",
      "Epoch 6/10\n",
      "3789/3789 [==============================] - 6s 2ms/step - loss: 0.0018 - accuracy: 0.9995\n",
      "Epoch 7/10\n",
      "3789/3789 [==============================] - 6s 2ms/step - loss: 0.0021 - accuracy: 0.9995\n",
      "Epoch 8/10\n",
      "3789/3789 [==============================] - 6s 2ms/step - loss: 9.1156e-04 - accuracy: 0.9995\n",
      "Epoch 9/10\n",
      "3789/3789 [==============================] - 6s 2ms/step - loss: 0.0013 - accuracy: 0.9997\n",
      "Epoch 10/10\n",
      "3789/3789 [==============================] - 6s 2ms/step - loss: 0.0010 - accuracy: 0.9992\n",
      "947/947 [==============================] - 0s 189us/step\n",
      "Model: \"sequential_14\"\n",
      "_________________________________________________________________\n",
      "Layer (type)                 Output Shape              Param #   \n",
      "=================================================================\n",
      "embedding_14 (Embedding)     (None, 81, 100)           750700    \n",
      "_________________________________________________________________\n",
      "conv1d_14 (Conv1D)           (None, 74, 32)            25632     \n",
      "_________________________________________________________________\n",
      "max_pooling1d_14 (MaxPooling (None, 37, 32)            0         \n",
      "_________________________________________________________________\n",
      "flatten_14 (Flatten)         (None, 1184)              0         \n",
      "_________________________________________________________________\n",
      "dense_27 (Dense)             (None, 10)                11850     \n",
      "_________________________________________________________________\n",
      "dense_28 (Dense)             (None, 1)                 11        \n",
      "=================================================================\n",
      "Total params: 788,193\n",
      "Trainable params: 788,193\n",
      "Non-trainable params: 0\n",
      "_________________________________________________________________\n"
     ]
    },
    {
     "name": "stderr",
     "output_type": "stream",
     "text": [
      "C:\\Users\\ADMIN\\anaconda3\\envs\\AlexEnv\\lib\\site-packages\\tensorflow_core\\python\\framework\\indexed_slices.py:433: UserWarning: Converting sparse IndexedSlices to a dense Tensor of unknown shape. This may consume a large amount of memory.\n",
      "  \"Converting sparse IndexedSlices to a dense Tensor of unknown shape. \"\n"
     ]
    },
    {
     "name": "stdout",
     "output_type": "stream",
     "text": [
      "Epoch 1/10\n",
      "3789/3789 [==============================] - 7s 2ms/step - loss: 0.1847 - accuracy: 0.9369\n",
      "Epoch 2/10\n",
      "3789/3789 [==============================] - 7s 2ms/step - loss: 0.0258 - accuracy: 0.9931\n",
      "Epoch 3/10\n",
      "3789/3789 [==============================] - 7s 2ms/step - loss: 0.0081 - accuracy: 0.9982\n",
      "Epoch 4/10\n",
      "3789/3789 [==============================] - 7s 2ms/step - loss: 0.0041 - accuracy: 0.9995\n",
      "Epoch 5/10\n",
      "3789/3789 [==============================] - 7s 2ms/step - loss: 0.0032 - accuracy: 0.9995\n",
      "Epoch 6/10\n",
      "3789/3789 [==============================] - 7s 2ms/step - loss: 0.0023 - accuracy: 0.9992\n",
      "Epoch 7/10\n",
      "3789/3789 [==============================] - 6s 2ms/step - loss: 0.0015 - accuracy: 0.9995\n",
      "Epoch 8/10\n",
      "3789/3789 [==============================] - 6s 2ms/step - loss: 0.0014 - accuracy: 0.9997\n",
      "Epoch 9/10\n",
      "3789/3789 [==============================] - 6s 2ms/step - loss: 0.0013 - accuracy: 0.9997\n",
      "Epoch 10/10\n",
      "3789/3789 [==============================] - 6s 2ms/step - loss: 0.0013 - accuracy: 0.9997\n",
      "947/947 [==============================] - 0s 182us/step\n",
      "Model: \"sequential_15\"\n",
      "_________________________________________________________________\n",
      "Layer (type)                 Output Shape              Param #   \n",
      "=================================================================\n",
      "embedding_15 (Embedding)     (None, 81, 100)           750700    \n",
      "_________________________________________________________________\n",
      "conv1d_15 (Conv1D)           (None, 74, 32)            25632     \n",
      "_________________________________________________________________\n",
      "max_pooling1d_15 (MaxPooling (None, 37, 32)            0         \n",
      "_________________________________________________________________\n",
      "flatten_15 (Flatten)         (None, 1184)              0         \n",
      "_________________________________________________________________\n",
      "dense_29 (Dense)             (None, 10)                11850     \n",
      "_________________________________________________________________\n",
      "dense_30 (Dense)             (None, 1)                 11        \n",
      "=================================================================\n",
      "Total params: 788,193\n",
      "Trainable params: 788,193\n",
      "Non-trainable params: 0\n",
      "_________________________________________________________________\n"
     ]
    },
    {
     "name": "stderr",
     "output_type": "stream",
     "text": [
      "C:\\Users\\ADMIN\\anaconda3\\envs\\AlexEnv\\lib\\site-packages\\tensorflow_core\\python\\framework\\indexed_slices.py:433: UserWarning: Converting sparse IndexedSlices to a dense Tensor of unknown shape. This may consume a large amount of memory.\n",
      "  \"Converting sparse IndexedSlices to a dense Tensor of unknown shape. \"\n"
     ]
    },
    {
     "name": "stdout",
     "output_type": "stream",
     "text": [
      "Epoch 1/10\n",
      "3789/3789 [==============================] - 7s 2ms/step - loss: 0.1869 - accuracy: 0.9375: 0s - loss: 0.1890 - accuracy: \n",
      "Epoch 2/10\n",
      "3789/3789 [==============================] - 6s 2ms/step - loss: 0.0246 - accuracy: 0.9934\n",
      "Epoch 3/10\n",
      "3789/3789 [==============================] - 6s 2ms/step - loss: 0.0047 - accuracy: 0.9987\n",
      "Epoch 4/10\n",
      "3789/3789 [==============================] - 6s 2ms/step - loss: 0.0018 - accuracy: 0.9997\n",
      "Epoch 5/10\n",
      "3789/3789 [==============================] - 6s 2ms/step - loss: 0.0017 - accuracy: 0.9995\n",
      "Epoch 6/10\n",
      "3789/3789 [==============================] - 6s 2ms/step - loss: 0.0012 - accuracy: 0.9997\n",
      "Epoch 7/10\n",
      "3789/3789 [==============================] - 6s 2ms/step - loss: 7.2206e-05 - accuracy: 1.0000\n",
      "Epoch 8/10\n",
      "3789/3789 [==============================] - 6s 2ms/step - loss: 6.0084e-05 - accuracy: 1.0000\n",
      "Epoch 9/10\n",
      "3789/3789 [==============================] - 6s 2ms/step - loss: 3.5437e-05 - accuracy: 1.0000\n",
      "Epoch 10/10\n",
      "3789/3789 [==============================] - 6s 2ms/step - loss: 2.4943e-05 - accuracy: 1.0000\n",
      "947/947 [==============================] - 0s 193us/step\n",
      "Model: \"sequential_16\"\n",
      "_________________________________________________________________\n",
      "Layer (type)                 Output Shape              Param #   \n",
      "=================================================================\n",
      "embedding_16 (Embedding)     (None, 81, 100)           750700    \n",
      "_________________________________________________________________\n",
      "conv1d_16 (Conv1D)           (None, 74, 32)            25632     \n",
      "_________________________________________________________________\n",
      "max_pooling1d_16 (MaxPooling (None, 37, 32)            0         \n",
      "_________________________________________________________________\n",
      "flatten_16 (Flatten)         (None, 1184)              0         \n",
      "_________________________________________________________________\n",
      "dense_31 (Dense)             (None, 10)                11850     \n",
      "_________________________________________________________________\n",
      "dense_32 (Dense)             (None, 1)                 11        \n",
      "=================================================================\n",
      "Total params: 788,193\n",
      "Trainable params: 788,193\n",
      "Non-trainable params: 0\n",
      "_________________________________________________________________\n"
     ]
    },
    {
     "name": "stderr",
     "output_type": "stream",
     "text": [
      "C:\\Users\\ADMIN\\anaconda3\\envs\\AlexEnv\\lib\\site-packages\\tensorflow_core\\python\\framework\\indexed_slices.py:433: UserWarning: Converting sparse IndexedSlices to a dense Tensor of unknown shape. This may consume a large amount of memory.\n",
      "  \"Converting sparse IndexedSlices to a dense Tensor of unknown shape. \"\n"
     ]
    },
    {
     "name": "stdout",
     "output_type": "stream",
     "text": [
      "Epoch 1/10\n",
      "3789/3789 [==============================] - 6s 2ms/step - loss: 0.1889 - accuracy: 0.9274\n",
      "Epoch 2/10\n",
      "3789/3789 [==============================] - 6s 2ms/step - loss: 0.0292 - accuracy: 0.9918\n",
      "Epoch 3/10\n",
      "3789/3789 [==============================] - 6s 2ms/step - loss: 0.0058 - accuracy: 0.9987\n",
      "Epoch 4/10\n",
      "3789/3789 [==============================] - 6s 2ms/step - loss: 0.0029 - accuracy: 0.9997\n",
      "Epoch 5/10\n",
      "3789/3789 [==============================] - 6s 2ms/step - loss: 0.0024 - accuracy: 0.9997\n",
      "Epoch 6/10\n",
      "3789/3789 [==============================] - 6s 2ms/step - loss: 0.0023 - accuracy: 0.9997\n",
      "Epoch 7/10\n",
      "3789/3789 [==============================] - 6s 2ms/step - loss: 0.0019 - accuracy: 0.9997\n",
      "Epoch 8/10\n",
      "3789/3789 [==============================] - 6s 2ms/step - loss: 0.0023 - accuracy: 0.9997\n",
      "Epoch 9/10\n",
      "3789/3789 [==============================] - 6s 2ms/step - loss: 0.0016 - accuracy: 0.9997\n",
      "Epoch 10/10\n",
      "3789/3789 [==============================] - 6s 2ms/step - loss: 0.0015 - accuracy: 0.9997\n",
      "947/947 [==============================] - 0s 217us/step\n",
      "Model: \"sequential_17\"\n",
      "_________________________________________________________________\n",
      "Layer (type)                 Output Shape              Param #   \n",
      "=================================================================\n",
      "embedding_17 (Embedding)     (None, 81, 100)           750700    \n",
      "_________________________________________________________________\n",
      "conv1d_17 (Conv1D)           (None, 74, 32)            25632     \n",
      "_________________________________________________________________\n",
      "max_pooling1d_17 (MaxPooling (None, 37, 32)            0         \n",
      "_________________________________________________________________\n",
      "flatten_17 (Flatten)         (None, 1184)              0         \n",
      "_________________________________________________________________\n",
      "dense_33 (Dense)             (None, 10)                11850     \n",
      "_________________________________________________________________\n",
      "dense_34 (Dense)             (None, 1)                 11        \n",
      "=================================================================\n",
      "Total params: 788,193\n",
      "Trainable params: 788,193\n",
      "Non-trainable params: 0\n",
      "_________________________________________________________________\n"
     ]
    },
    {
     "name": "stderr",
     "output_type": "stream",
     "text": [
      "C:\\Users\\ADMIN\\anaconda3\\envs\\AlexEnv\\lib\\site-packages\\tensorflow_core\\python\\framework\\indexed_slices.py:433: UserWarning: Converting sparse IndexedSlices to a dense Tensor of unknown shape. This may consume a large amount of memory.\n",
      "  \"Converting sparse IndexedSlices to a dense Tensor of unknown shape. \"\n"
     ]
    },
    {
     "name": "stdout",
     "output_type": "stream",
     "text": [
      "Epoch 1/4\n",
      "3788/3788 [==============================] - 7s 2ms/step - loss: 0.1800 - accuracy: 0.9345\n",
      "Epoch 2/4\n",
      "3788/3788 [==============================] - 6s 2ms/step - loss: 0.0216 - accuracy: 0.9939\n",
      "Epoch 3/4\n",
      "3788/3788 [==============================] - 6s 2ms/step - loss: 0.0055 - accuracy: 0.9989\n",
      "Epoch 4/4\n",
      "3788/3788 [==============================] - 6s 2ms/step - loss: 0.0038 - accuracy: 0.9995\n",
      "948/948 [==============================] - 0s 188us/step\n",
      "Model: \"sequential_18\"\n",
      "_________________________________________________________________\n",
      "Layer (type)                 Output Shape              Param #   \n",
      "=================================================================\n",
      "embedding_18 (Embedding)     (None, 81, 100)           750700    \n",
      "_________________________________________________________________\n",
      "conv1d_18 (Conv1D)           (None, 74, 32)            25632     \n",
      "_________________________________________________________________\n",
      "max_pooling1d_18 (MaxPooling (None, 37, 32)            0         \n",
      "_________________________________________________________________\n",
      "flatten_18 (Flatten)         (None, 1184)              0         \n",
      "_________________________________________________________________\n",
      "dense_35 (Dense)             (None, 10)                11850     \n",
      "_________________________________________________________________\n",
      "dense_36 (Dense)             (None, 1)                 11        \n",
      "=================================================================\n",
      "Total params: 788,193\n",
      "Trainable params: 788,193\n",
      "Non-trainable params: 0\n",
      "_________________________________________________________________\n"
     ]
    },
    {
     "name": "stderr",
     "output_type": "stream",
     "text": [
      "C:\\Users\\ADMIN\\anaconda3\\envs\\AlexEnv\\lib\\site-packages\\tensorflow_core\\python\\framework\\indexed_slices.py:433: UserWarning: Converting sparse IndexedSlices to a dense Tensor of unknown shape. This may consume a large amount of memory.\n",
      "  \"Converting sparse IndexedSlices to a dense Tensor of unknown shape. \"\n"
     ]
    },
    {
     "name": "stdout",
     "output_type": "stream",
     "text": [
      "Epoch 1/4\n",
      "3789/3789 [==============================] - 7s 2ms/step - loss: 0.2134 - accuracy: 0.9256\n",
      "Epoch 2/4\n",
      "3789/3789 [==============================] - 6s 2ms/step - loss: 0.0984 - accuracy: 0.9905\n",
      "Epoch 3/4\n",
      "3789/3789 [==============================] - 6s 2ms/step - loss: 0.0784 - accuracy: 0.9952\n",
      "Epoch 4/4\n",
      "3789/3789 [==============================] - 6s 2ms/step - loss: 0.0603 - accuracy: 0.9979\n",
      "947/947 [==============================] - 0s 185us/step\n",
      "Model: \"sequential_19\"\n",
      "_________________________________________________________________\n",
      "Layer (type)                 Output Shape              Param #   \n",
      "=================================================================\n",
      "embedding_19 (Embedding)     (None, 81, 100)           750700    \n",
      "_________________________________________________________________\n",
      "conv1d_19 (Conv1D)           (None, 74, 32)            25632     \n",
      "_________________________________________________________________\n",
      "max_pooling1d_19 (MaxPooling (None, 37, 32)            0         \n",
      "_________________________________________________________________\n",
      "flatten_19 (Flatten)         (None, 1184)              0         \n",
      "_________________________________________________________________\n",
      "dense_37 (Dense)             (None, 10)                11850     \n",
      "_________________________________________________________________\n",
      "dense_38 (Dense)             (None, 1)                 11        \n",
      "=================================================================\n",
      "Total params: 788,193\n",
      "Trainable params: 788,193\n",
      "Non-trainable params: 0\n",
      "_________________________________________________________________\n"
     ]
    },
    {
     "name": "stderr",
     "output_type": "stream",
     "text": [
      "C:\\Users\\ADMIN\\anaconda3\\envs\\AlexEnv\\lib\\site-packages\\tensorflow_core\\python\\framework\\indexed_slices.py:433: UserWarning: Converting sparse IndexedSlices to a dense Tensor of unknown shape. This may consume a large amount of memory.\n",
      "  \"Converting sparse IndexedSlices to a dense Tensor of unknown shape. \"\n"
     ]
    },
    {
     "name": "stdout",
     "output_type": "stream",
     "text": [
      "Epoch 1/4\n",
      "3789/3789 [==============================] - 6s 2ms/step - loss: 0.1950 - accuracy: 0.9396\n",
      "Epoch 2/4\n",
      "3789/3789 [==============================] - 6s 2ms/step - loss: 0.0961 - accuracy: 0.9908\n",
      "Epoch 3/4\n",
      "3789/3789 [==============================] - 6s 2ms/step - loss: 0.0713 - accuracy: 0.9971\n",
      "Epoch 4/4\n",
      "3789/3789 [==============================] - 6s 2ms/step - loss: 0.0570 - accuracy: 0.9984\n",
      "947/947 [==============================] - 0s 220us/step\n",
      "Model: \"sequential_20\"\n",
      "_________________________________________________________________\n",
      "Layer (type)                 Output Shape              Param #   \n",
      "=================================================================\n",
      "embedding_20 (Embedding)     (None, 81, 100)           750700    \n",
      "_________________________________________________________________\n",
      "conv1d_20 (Conv1D)           (None, 74, 32)            25632     \n",
      "_________________________________________________________________\n",
      "max_pooling1d_20 (MaxPooling (None, 37, 32)            0         \n",
      "_________________________________________________________________\n",
      "flatten_20 (Flatten)         (None, 1184)              0         \n",
      "_________________________________________________________________\n",
      "dense_39 (Dense)             (None, 10)                11850     \n",
      "_________________________________________________________________\n",
      "dense_40 (Dense)             (None, 1)                 11        \n",
      "=================================================================\n",
      "Total params: 788,193\n",
      "Trainable params: 788,193\n",
      "Non-trainable params: 0\n",
      "_________________________________________________________________\n"
     ]
    },
    {
     "name": "stderr",
     "output_type": "stream",
     "text": [
      "C:\\Users\\ADMIN\\anaconda3\\envs\\AlexEnv\\lib\\site-packages\\tensorflow_core\\python\\framework\\indexed_slices.py:433: UserWarning: Converting sparse IndexedSlices to a dense Tensor of unknown shape. This may consume a large amount of memory.\n",
      "  \"Converting sparse IndexedSlices to a dense Tensor of unknown shape. \"\n"
     ]
    },
    {
     "name": "stdout",
     "output_type": "stream",
     "text": [
      "Epoch 1/4\n",
      "3789/3789 [==============================] - 6s 2ms/step - loss: 0.2247 - accuracy: 0.9169\n",
      "Epoch 2/4\n",
      "3789/3789 [==============================] - 6s 2ms/step - loss: 0.0984 - accuracy: 0.9905: 0s - loss: 0.1015 - accuracy:  - ETA: 0s - loss: 0.1009 \n",
      "Epoch 3/4\n",
      "3789/3789 [==============================] - 6s 2ms/step - loss: 0.0754 - accuracy: 0.9950\n",
      "Epoch 4/4\n",
      "3789/3789 [==============================] - 6s 2ms/step - loss: 0.0623 - accuracy: 0.9974\n",
      "947/947 [==============================] - 0s 186us/step\n",
      "Model: \"sequential_21\"\n",
      "_________________________________________________________________\n",
      "Layer (type)                 Output Shape              Param #   \n",
      "=================================================================\n",
      "embedding_21 (Embedding)     (None, 81, 100)           750700    \n",
      "_________________________________________________________________\n",
      "conv1d_21 (Conv1D)           (None, 74, 32)            25632     \n",
      "_________________________________________________________________\n",
      "max_pooling1d_21 (MaxPooling (None, 37, 32)            0         \n",
      "_________________________________________________________________\n",
      "flatten_21 (Flatten)         (None, 1184)              0         \n",
      "_________________________________________________________________\n",
      "dense_41 (Dense)             (None, 10)                11850     \n",
      "_________________________________________________________________\n",
      "dense_42 (Dense)             (None, 1)                 11        \n",
      "=================================================================\n",
      "Total params: 788,193\n",
      "Trainable params: 788,193\n",
      "Non-trainable params: 0\n",
      "_________________________________________________________________\n"
     ]
    },
    {
     "name": "stderr",
     "output_type": "stream",
     "text": [
      "C:\\Users\\ADMIN\\anaconda3\\envs\\AlexEnv\\lib\\site-packages\\tensorflow_core\\python\\framework\\indexed_slices.py:433: UserWarning: Converting sparse IndexedSlices to a dense Tensor of unknown shape. This may consume a large amount of memory.\n",
      "  \"Converting sparse IndexedSlices to a dense Tensor of unknown shape. \"\n"
     ]
    },
    {
     "name": "stdout",
     "output_type": "stream",
     "text": [
      "Epoch 1/4\n",
      "3789/3789 [==============================] - 7s 2ms/step - loss: 0.1678 - accuracy: 0.9364\n",
      "Epoch 2/4\n",
      "3789/3789 [==============================] - 6s 2ms/step - loss: 0.0242 - accuracy: 0.9937\n",
      "Epoch 3/4\n",
      "3789/3789 [==============================] - 6s 2ms/step - loss: 0.0057 - accuracy: 0.9989\n",
      "Epoch 4/4\n",
      "3789/3789 [==============================] - 6s 2ms/step - loss: 0.0023 - accuracy: 0.9995\n",
      "947/947 [==============================] - 0s 188us/step\n",
      "Model: \"sequential_22\"\n",
      "_________________________________________________________________\n",
      "Layer (type)                 Output Shape              Param #   \n",
      "=================================================================\n",
      "embedding_22 (Embedding)     (None, 81, 100)           750700    \n",
      "_________________________________________________________________\n",
      "conv1d_22 (Conv1D)           (None, 74, 32)            25632     \n",
      "_________________________________________________________________\n",
      "max_pooling1d_22 (MaxPooling (None, 37, 32)            0         \n",
      "_________________________________________________________________\n",
      "flatten_22 (Flatten)         (None, 1184)              0         \n",
      "_________________________________________________________________\n",
      "dense_43 (Dense)             (None, 10)                11850     \n",
      "_________________________________________________________________\n",
      "dense_44 (Dense)             (None, 1)                 11        \n",
      "=================================================================\n",
      "Total params: 788,193\n",
      "Trainable params: 788,193\n",
      "Non-trainable params: 0\n",
      "_________________________________________________________________\n"
     ]
    },
    {
     "name": "stderr",
     "output_type": "stream",
     "text": [
      "C:\\Users\\ADMIN\\anaconda3\\envs\\AlexEnv\\lib\\site-packages\\tensorflow_core\\python\\framework\\indexed_slices.py:433: UserWarning: Converting sparse IndexedSlices to a dense Tensor of unknown shape. This may consume a large amount of memory.\n",
      "  \"Converting sparse IndexedSlices to a dense Tensor of unknown shape. \"\n"
     ]
    },
    {
     "name": "stdout",
     "output_type": "stream",
     "text": [
      "Epoch 1/2\n",
      "3788/3788 [==============================] - 6s 2ms/step - loss: 0.1684 - accuracy: 0.9446\n",
      "Epoch 2/2\n",
      "3788/3788 [==============================] - 6s 2ms/step - loss: 0.0271 - accuracy: 0.9918\n",
      "948/948 [==============================] - 0s 186us/step\n",
      "Model: \"sequential_23\"\n",
      "_________________________________________________________________\n",
      "Layer (type)                 Output Shape              Param #   \n",
      "=================================================================\n",
      "embedding_23 (Embedding)     (None, 81, 100)           750700    \n",
      "_________________________________________________________________\n",
      "conv1d_23 (Conv1D)           (None, 74, 32)            25632     \n",
      "_________________________________________________________________\n",
      "max_pooling1d_23 (MaxPooling (None, 37, 32)            0         \n",
      "_________________________________________________________________\n",
      "flatten_23 (Flatten)         (None, 1184)              0         \n",
      "_________________________________________________________________\n",
      "dense_45 (Dense)             (None, 10)                11850     \n",
      "_________________________________________________________________\n",
      "dense_46 (Dense)             (None, 1)                 11        \n",
      "=================================================================\n",
      "Total params: 788,193\n",
      "Trainable params: 788,193\n",
      "Non-trainable params: 0\n",
      "_________________________________________________________________\n"
     ]
    },
    {
     "name": "stderr",
     "output_type": "stream",
     "text": [
      "C:\\Users\\ADMIN\\anaconda3\\envs\\AlexEnv\\lib\\site-packages\\tensorflow_core\\python\\framework\\indexed_slices.py:433: UserWarning: Converting sparse IndexedSlices to a dense Tensor of unknown shape. This may consume a large amount of memory.\n",
      "  \"Converting sparse IndexedSlices to a dense Tensor of unknown shape. \"\n"
     ]
    },
    {
     "name": "stdout",
     "output_type": "stream",
     "text": [
      "Epoch 1/2\n",
      "3789/3789 [==============================] - 6s 2ms/step - loss: 0.2245 - accuracy: 0.9240\n",
      "Epoch 2/2\n",
      "3789/3789 [==============================] - 6s 2ms/step - loss: 0.1025 - accuracy: 0.9900\n",
      "947/947 [==============================] - 0s 217us/step\n",
      "Model: \"sequential_24\"\n",
      "_________________________________________________________________\n",
      "Layer (type)                 Output Shape              Param #   \n",
      "=================================================================\n",
      "embedding_24 (Embedding)     (None, 81, 100)           750700    \n",
      "_________________________________________________________________\n",
      "conv1d_24 (Conv1D)           (None, 74, 32)            25632     \n",
      "_________________________________________________________________\n",
      "max_pooling1d_24 (MaxPooling (None, 37, 32)            0         \n",
      "_________________________________________________________________\n",
      "flatten_24 (Flatten)         (None, 1184)              0         \n",
      "_________________________________________________________________\n",
      "dense_47 (Dense)             (None, 10)                11850     \n",
      "_________________________________________________________________\n",
      "dense_48 (Dense)             (None, 1)                 11        \n",
      "=================================================================\n",
      "Total params: 788,193\n",
      "Trainable params: 788,193\n",
      "Non-trainable params: 0\n",
      "_________________________________________________________________\n"
     ]
    },
    {
     "name": "stderr",
     "output_type": "stream",
     "text": [
      "C:\\Users\\ADMIN\\anaconda3\\envs\\AlexEnv\\lib\\site-packages\\tensorflow_core\\python\\framework\\indexed_slices.py:433: UserWarning: Converting sparse IndexedSlices to a dense Tensor of unknown shape. This may consume a large amount of memory.\n",
      "  \"Converting sparse IndexedSlices to a dense Tensor of unknown shape. \"\n"
     ]
    },
    {
     "name": "stdout",
     "output_type": "stream",
     "text": [
      "Epoch 1/2\n",
      "3789/3789 [==============================] - 7s 2ms/step - loss: 0.1968 - accuracy: 0.9390\n",
      "Epoch 2/2\n",
      "3789/3789 [==============================] - 7s 2ms/step - loss: 0.0970 - accuracy: 0.9897: 0s - loss: 0.0956 - accu\n",
      "947/947 [==============================] - 0s 201us/step\n",
      "Model: \"sequential_25\"\n",
      "_________________________________________________________________\n",
      "Layer (type)                 Output Shape              Param #   \n",
      "=================================================================\n",
      "embedding_25 (Embedding)     (None, 81, 100)           750700    \n",
      "_________________________________________________________________\n",
      "conv1d_25 (Conv1D)           (None, 74, 32)            25632     \n",
      "_________________________________________________________________\n",
      "max_pooling1d_25 (MaxPooling (None, 37, 32)            0         \n",
      "_________________________________________________________________\n",
      "flatten_25 (Flatten)         (None, 1184)              0         \n",
      "_________________________________________________________________\n",
      "dense_49 (Dense)             (None, 10)                11850     \n",
      "_________________________________________________________________\n",
      "dense_50 (Dense)             (None, 1)                 11        \n",
      "=================================================================\n",
      "Total params: 788,193\n",
      "Trainable params: 788,193\n",
      "Non-trainable params: 0\n",
      "_________________________________________________________________\n"
     ]
    },
    {
     "name": "stderr",
     "output_type": "stream",
     "text": [
      "C:\\Users\\ADMIN\\anaconda3\\envs\\AlexEnv\\lib\\site-packages\\tensorflow_core\\python\\framework\\indexed_slices.py:433: UserWarning: Converting sparse IndexedSlices to a dense Tensor of unknown shape. This may consume a large amount of memory.\n",
      "  \"Converting sparse IndexedSlices to a dense Tensor of unknown shape. \"\n"
     ]
    },
    {
     "name": "stdout",
     "output_type": "stream",
     "text": [
      "Epoch 1/2\n",
      "3789/3789 [==============================] - 7s 2ms/step - loss: 0.2038 - accuracy: 0.9324\n",
      "Epoch 2/2\n",
      "3789/3789 [==============================] - 7s 2ms/step - loss: 0.0952 - accuracy: 0.9910\n",
      "947/947 [==============================] - 0s 201us/step\n",
      "Model: \"sequential_26\"\n",
      "_________________________________________________________________\n",
      "Layer (type)                 Output Shape              Param #   \n",
      "=================================================================\n",
      "embedding_26 (Embedding)     (None, 81, 100)           750700    \n",
      "_________________________________________________________________\n",
      "conv1d_26 (Conv1D)           (None, 74, 32)            25632     \n",
      "_________________________________________________________________\n",
      "max_pooling1d_26 (MaxPooling (None, 37, 32)            0         \n",
      "_________________________________________________________________\n",
      "flatten_26 (Flatten)         (None, 1184)              0         \n",
      "_________________________________________________________________\n",
      "dense_51 (Dense)             (None, 10)                11850     \n",
      "_________________________________________________________________\n",
      "dense_52 (Dense)             (None, 1)                 11        \n",
      "=================================================================\n",
      "Total params: 788,193\n",
      "Trainable params: 788,193\n",
      "Non-trainable params: 0\n",
      "_________________________________________________________________\n"
     ]
    },
    {
     "name": "stderr",
     "output_type": "stream",
     "text": [
      "C:\\Users\\ADMIN\\anaconda3\\envs\\AlexEnv\\lib\\site-packages\\tensorflow_core\\python\\framework\\indexed_slices.py:433: UserWarning: Converting sparse IndexedSlices to a dense Tensor of unknown shape. This may consume a large amount of memory.\n",
      "  \"Converting sparse IndexedSlices to a dense Tensor of unknown shape. \"\n"
     ]
    },
    {
     "name": "stdout",
     "output_type": "stream",
     "text": [
      "Epoch 1/2\n",
      "3789/3789 [==============================] - 7s 2ms/step - loss: 0.2043 - accuracy: 0.9314\n",
      "Epoch 2/2\n",
      "3789/3789 [==============================] - 7s 2ms/step - loss: 0.0994 - accuracy: 0.9902\n",
      "947/947 [==============================] - 0s 195us/step\n",
      "Model: \"sequential_27\"\n",
      "_________________________________________________________________\n",
      "Layer (type)                 Output Shape              Param #   \n",
      "=================================================================\n",
      "embedding_27 (Embedding)     (None, 81, 100)           750700    \n",
      "_________________________________________________________________\n",
      "conv1d_27 (Conv1D)           (None, 74, 32)            25632     \n",
      "_________________________________________________________________\n",
      "max_pooling1d_27 (MaxPooling (None, 37, 32)            0         \n",
      "_________________________________________________________________\n",
      "flatten_27 (Flatten)         (None, 1184)              0         \n",
      "_________________________________________________________________\n",
      "dense_53 (Dense)             (None, 10)                11850     \n",
      "_________________________________________________________________\n",
      "dense_54 (Dense)             (None, 1)                 11        \n",
      "=================================================================\n",
      "Total params: 788,193\n",
      "Trainable params: 788,193\n",
      "Non-trainable params: 0\n",
      "_________________________________________________________________\n"
     ]
    },
    {
     "name": "stderr",
     "output_type": "stream",
     "text": [
      "C:\\Users\\ADMIN\\anaconda3\\envs\\AlexEnv\\lib\\site-packages\\tensorflow_core\\python\\framework\\indexed_slices.py:433: UserWarning: Converting sparse IndexedSlices to a dense Tensor of unknown shape. This may consume a large amount of memory.\n",
      "  \"Converting sparse IndexedSlices to a dense Tensor of unknown shape. \"\n"
     ]
    },
    {
     "name": "stdout",
     "output_type": "stream",
     "text": [
      "Epoch 1/4\n",
      "3788/3788 [==============================] - 10s 3ms/step - loss: 0.1949 - accuracy: 0.9414\n",
      "Epoch 2/4\n",
      "3788/3788 [==============================] - 10s 3ms/step - loss: 0.0883 - accuracy: 0.9902\n",
      "Epoch 3/4\n",
      "3788/3788 [==============================] - 10s 3ms/step - loss: 0.0632 - accuracy: 0.9963\n",
      "Epoch 4/4\n",
      "3788/3788 [==============================] - 10s 3ms/step - loss: 0.0489 - accuracy: 0.9976\n",
      "948/948 [==============================] - 0s 233us/step\n",
      "Model: \"sequential_28\"\n",
      "_________________________________________________________________\n",
      "Layer (type)                 Output Shape              Param #   \n",
      "=================================================================\n",
      "embedding_28 (Embedding)     (None, 81, 100)           750700    \n",
      "_________________________________________________________________\n",
      "conv1d_28 (Conv1D)           (None, 74, 32)            25632     \n",
      "_________________________________________________________________\n",
      "max_pooling1d_28 (MaxPooling (None, 37, 32)            0         \n",
      "_________________________________________________________________\n",
      "flatten_28 (Flatten)         (None, 1184)              0         \n",
      "_________________________________________________________________\n",
      "dense_55 (Dense)             (None, 10)                11850     \n",
      "_________________________________________________________________\n",
      "dense_56 (Dense)             (None, 1)                 11        \n",
      "=================================================================\n",
      "Total params: 788,193\n",
      "Trainable params: 788,193\n",
      "Non-trainable params: 0\n",
      "_________________________________________________________________\n"
     ]
    },
    {
     "name": "stderr",
     "output_type": "stream",
     "text": [
      "C:\\Users\\ADMIN\\anaconda3\\envs\\AlexEnv\\lib\\site-packages\\tensorflow_core\\python\\framework\\indexed_slices.py:433: UserWarning: Converting sparse IndexedSlices to a dense Tensor of unknown shape. This may consume a large amount of memory.\n",
      "  \"Converting sparse IndexedSlices to a dense Tensor of unknown shape. \"\n"
     ]
    },
    {
     "name": "stdout",
     "output_type": "stream",
     "text": [
      "Epoch 1/4\n",
      "3789/3789 [==============================] - 10s 3ms/step - loss: 0.1982 - accuracy: 0.9385\n",
      "Epoch 2/4\n",
      "3789/3789 [==============================] - 10s 3ms/step - loss: 0.0885 - accuracy: 0.9910\n",
      "Epoch 3/4\n",
      "3789/3789 [==============================] - 10s 3ms/step - loss: 0.0618 - accuracy: 0.9968\n",
      "Epoch 4/4\n",
      "3789/3789 [==============================] - 10s 3ms/step - loss: 0.0491 - accuracy: 0.9958\n",
      "947/947 [==============================] - 0s 239us/step\n",
      "Model: \"sequential_29\"\n",
      "_________________________________________________________________\n",
      "Layer (type)                 Output Shape              Param #   \n",
      "=================================================================\n",
      "embedding_29 (Embedding)     (None, 81, 100)           750700    \n",
      "_________________________________________________________________\n",
      "conv1d_29 (Conv1D)           (None, 74, 32)            25632     \n",
      "_________________________________________________________________\n",
      "max_pooling1d_29 (MaxPooling (None, 37, 32)            0         \n",
      "_________________________________________________________________\n",
      "flatten_29 (Flatten)         (None, 1184)              0         \n",
      "_________________________________________________________________\n",
      "dense_57 (Dense)             (None, 10)                11850     \n",
      "_________________________________________________________________\n",
      "dense_58 (Dense)             (None, 1)                 11        \n",
      "=================================================================\n",
      "Total params: 788,193\n",
      "Trainable params: 788,193\n",
      "Non-trainable params: 0\n",
      "_________________________________________________________________\n"
     ]
    },
    {
     "name": "stderr",
     "output_type": "stream",
     "text": [
      "C:\\Users\\ADMIN\\anaconda3\\envs\\AlexEnv\\lib\\site-packages\\tensorflow_core\\python\\framework\\indexed_slices.py:433: UserWarning: Converting sparse IndexedSlices to a dense Tensor of unknown shape. This may consume a large amount of memory.\n",
      "  \"Converting sparse IndexedSlices to a dense Tensor of unknown shape. \"\n"
     ]
    },
    {
     "name": "stdout",
     "output_type": "stream",
     "text": [
      "Epoch 1/4\n",
      "3789/3789 [==============================] - 10s 3ms/step - loss: 0.1994 - accuracy: 0.9404\n",
      "Epoch 2/4\n",
      "3789/3789 [==============================] - 10s 3ms/step - loss: 0.0577 - accuracy: 0.9923\n",
      "Epoch 3/4\n",
      "3789/3789 [==============================] - 10s 3ms/step - loss: 0.0109 - accuracy: 0.9968\n",
      "Epoch 4/4\n",
      "3789/3789 [==============================] - 10s 3ms/step - loss: 0.0033 - accuracy: 0.9992\n",
      "947/947 [==============================] - 0s 220us/step\n",
      "Model: \"sequential_30\"\n",
      "_________________________________________________________________\n",
      "Layer (type)                 Output Shape              Param #   \n",
      "=================================================================\n",
      "embedding_30 (Embedding)     (None, 81, 100)           750700    \n",
      "_________________________________________________________________\n",
      "conv1d_30 (Conv1D)           (None, 74, 32)            25632     \n",
      "_________________________________________________________________\n",
      "max_pooling1d_30 (MaxPooling (None, 37, 32)            0         \n",
      "_________________________________________________________________\n",
      "flatten_30 (Flatten)         (None, 1184)              0         \n",
      "_________________________________________________________________\n",
      "dense_59 (Dense)             (None, 10)                11850     \n",
      "_________________________________________________________________\n",
      "dense_60 (Dense)             (None, 1)                 11        \n",
      "=================================================================\n",
      "Total params: 788,193\n",
      "Trainable params: 788,193\n",
      "Non-trainable params: 0\n",
      "_________________________________________________________________\n"
     ]
    },
    {
     "name": "stderr",
     "output_type": "stream",
     "text": [
      "C:\\Users\\ADMIN\\anaconda3\\envs\\AlexEnv\\lib\\site-packages\\tensorflow_core\\python\\framework\\indexed_slices.py:433: UserWarning: Converting sparse IndexedSlices to a dense Tensor of unknown shape. This may consume a large amount of memory.\n",
      "  \"Converting sparse IndexedSlices to a dense Tensor of unknown shape. \"\n"
     ]
    },
    {
     "name": "stdout",
     "output_type": "stream",
     "text": [
      "Epoch 1/4\n",
      "3789/3789 [==============================] - 11s 3ms/step - loss: 0.1320 - accuracy: 0.9554\n",
      "Epoch 2/4\n",
      "3789/3789 [==============================] - 10s 3ms/step - loss: 0.0167 - accuracy: 0.9963\n",
      "Epoch 3/4\n",
      "3789/3789 [==============================] - 10s 3ms/step - loss: 0.0046 - accuracy: 0.9989\n",
      "Epoch 4/4\n",
      "3789/3789 [==============================] - 10s 3ms/step - loss: 0.0026 - accuracy: 0.9995\n",
      "947/947 [==============================] - 0s 226us/step\n",
      "Model: \"sequential_31\"\n",
      "_________________________________________________________________\n",
      "Layer (type)                 Output Shape              Param #   \n",
      "=================================================================\n",
      "embedding_31 (Embedding)     (None, 81, 100)           750700    \n",
      "_________________________________________________________________\n",
      "conv1d_31 (Conv1D)           (None, 74, 32)            25632     \n",
      "_________________________________________________________________\n",
      "max_pooling1d_31 (MaxPooling (None, 37, 32)            0         \n",
      "_________________________________________________________________\n",
      "flatten_31 (Flatten)         (None, 1184)              0         \n",
      "_________________________________________________________________\n",
      "dense_61 (Dense)             (None, 10)                11850     \n",
      "_________________________________________________________________\n",
      "dense_62 (Dense)             (None, 1)                 11        \n",
      "=================================================================\n",
      "Total params: 788,193\n",
      "Trainable params: 788,193\n",
      "Non-trainable params: 0\n",
      "_________________________________________________________________\n"
     ]
    },
    {
     "name": "stderr",
     "output_type": "stream",
     "text": [
      "C:\\Users\\ADMIN\\anaconda3\\envs\\AlexEnv\\lib\\site-packages\\tensorflow_core\\python\\framework\\indexed_slices.py:433: UserWarning: Converting sparse IndexedSlices to a dense Tensor of unknown shape. This may consume a large amount of memory.\n",
      "  \"Converting sparse IndexedSlices to a dense Tensor of unknown shape. \"\n"
     ]
    },
    {
     "name": "stdout",
     "output_type": "stream",
     "text": [
      "Epoch 1/4\n",
      "3789/3789 [==============================] - 10s 3ms/step - loss: 0.1557 - accuracy: 0.9448\n",
      "Epoch 2/4\n",
      "3789/3789 [==============================] - 10s 3ms/step - loss: 0.0222 - accuracy: 0.9926\n",
      "Epoch 3/4\n",
      "3789/3789 [==============================] - 11s 3ms/step - loss: 0.0085 - accuracy: 0.9976\n",
      "Epoch 4/4\n",
      "3789/3789 [==============================] - 10s 3ms/step - loss: 0.0027 - accuracy: 0.9997\n",
      "947/947 [==============================] - 0s 240us/step\n",
      "Model: \"sequential_32\"\n",
      "_________________________________________________________________\n",
      "Layer (type)                 Output Shape              Param #   \n",
      "=================================================================\n",
      "embedding_32 (Embedding)     (None, 81, 100)           750700    \n",
      "_________________________________________________________________\n",
      "conv1d_32 (Conv1D)           (None, 74, 32)            25632     \n",
      "_________________________________________________________________\n",
      "max_pooling1d_32 (MaxPooling (None, 37, 32)            0         \n",
      "_________________________________________________________________\n",
      "flatten_32 (Flatten)         (None, 1184)              0         \n",
      "_________________________________________________________________\n",
      "dense_63 (Dense)             (None, 10)                11850     \n",
      "_________________________________________________________________\n",
      "dense_64 (Dense)             (None, 1)                 11        \n",
      "=================================================================\n",
      "Total params: 788,193\n",
      "Trainable params: 788,193\n",
      "Non-trainable params: 0\n",
      "_________________________________________________________________\n"
     ]
    },
    {
     "name": "stderr",
     "output_type": "stream",
     "text": [
      "C:\\Users\\ADMIN\\anaconda3\\envs\\AlexEnv\\lib\\site-packages\\tensorflow_core\\python\\framework\\indexed_slices.py:433: UserWarning: Converting sparse IndexedSlices to a dense Tensor of unknown shape. This may consume a large amount of memory.\n",
      "  \"Converting sparse IndexedSlices to a dense Tensor of unknown shape. \"\n"
     ]
    },
    {
     "name": "stdout",
     "output_type": "stream",
     "text": [
      "Epoch 1/8\n",
      "3788/3788 [==============================] - 7s 2ms/step - loss: 0.1726 - accuracy: 0.9388\n",
      "Epoch 2/8\n",
      "3788/3788 [==============================] - 7s 2ms/step - loss: 0.0270 - accuracy: 0.9918\n",
      "Epoch 3/8\n",
      "3788/3788 [==============================] - 7s 2ms/step - loss: 0.0061 - accuracy: 0.9987\n",
      "Epoch 4/8\n",
      "3788/3788 [==============================] - 6s 2ms/step - loss: 0.0039 - accuracy: 0.9995\n",
      "Epoch 5/8\n",
      "3788/3788 [==============================] - 7s 2ms/step - loss: 0.0024 - accuracy: 0.9995\n",
      "Epoch 6/8\n",
      "3788/3788 [==============================] - 7s 2ms/step - loss: 0.0016 - accuracy: 0.9995\n",
      "Epoch 7/8\n",
      "3788/3788 [==============================] - 7s 2ms/step - loss: 0.0014 - accuracy: 0.9997\n",
      "Epoch 8/8\n",
      "3788/3788 [==============================] - 7s 2ms/step - loss: 0.0014 - accuracy: 0.9995\n",
      "948/948 [==============================] - 0s 204us/step\n",
      "Model: \"sequential_33\"\n",
      "_________________________________________________________________\n",
      "Layer (type)                 Output Shape              Param #   \n",
      "=================================================================\n",
      "embedding_33 (Embedding)     (None, 81, 100)           750700    \n",
      "_________________________________________________________________\n",
      "conv1d_33 (Conv1D)           (None, 74, 32)            25632     \n",
      "_________________________________________________________________\n",
      "max_pooling1d_33 (MaxPooling (None, 37, 32)            0         \n",
      "_________________________________________________________________\n",
      "flatten_33 (Flatten)         (None, 1184)              0         \n",
      "_________________________________________________________________\n",
      "dense_65 (Dense)             (None, 10)                11850     \n",
      "_________________________________________________________________\n",
      "dense_66 (Dense)             (None, 1)                 11        \n",
      "=================================================================\n",
      "Total params: 788,193\n",
      "Trainable params: 788,193\n",
      "Non-trainable params: 0\n",
      "_________________________________________________________________\n"
     ]
    },
    {
     "name": "stderr",
     "output_type": "stream",
     "text": [
      "C:\\Users\\ADMIN\\anaconda3\\envs\\AlexEnv\\lib\\site-packages\\tensorflow_core\\python\\framework\\indexed_slices.py:433: UserWarning: Converting sparse IndexedSlices to a dense Tensor of unknown shape. This may consume a large amount of memory.\n",
      "  \"Converting sparse IndexedSlices to a dense Tensor of unknown shape. \"\n"
     ]
    },
    {
     "name": "stdout",
     "output_type": "stream",
     "text": [
      "Epoch 1/8\n",
      "3789/3789 [==============================] - 7s 2ms/step - loss: 0.1808 - accuracy: 0.9319\n",
      "Epoch 2/8\n",
      "3789/3789 [==============================] - 6s 2ms/step - loss: 0.0228 - accuracy: 0.9942\n",
      "Epoch 3/8\n",
      "3789/3789 [==============================] - 6s 2ms/step - loss: 0.0073 - accuracy: 0.9989\n",
      "Epoch 4/8\n",
      "3789/3789 [==============================] - 7s 2ms/step - loss: 0.0042 - accuracy: 0.9992\n",
      "Epoch 5/8\n",
      "3789/3789 [==============================] - 6s 2ms/step - loss: 0.0026 - accuracy: 0.9995\n",
      "Epoch 6/8\n",
      "3789/3789 [==============================] - 6s 2ms/step - loss: 0.0019 - accuracy: 0.9995\n",
      "Epoch 7/8\n",
      "3789/3789 [==============================] - 7s 2ms/step - loss: 0.0015 - accuracy: 0.9995\n",
      "Epoch 8/8\n",
      "3789/3789 [==============================] - 6s 2ms/step - loss: 0.0011 - accuracy: 0.9995\n",
      "947/947 [==============================] - 0s 192us/step\n",
      "Model: \"sequential_34\"\n",
      "_________________________________________________________________\n",
      "Layer (type)                 Output Shape              Param #   \n",
      "=================================================================\n",
      "embedding_34 (Embedding)     (None, 81, 100)           750700    \n",
      "_________________________________________________________________\n",
      "conv1d_34 (Conv1D)           (None, 74, 32)            25632     \n",
      "_________________________________________________________________\n",
      "max_pooling1d_34 (MaxPooling (None, 37, 32)            0         \n",
      "_________________________________________________________________\n",
      "flatten_34 (Flatten)         (None, 1184)              0         \n",
      "_________________________________________________________________\n",
      "dense_67 (Dense)             (None, 10)                11850     \n",
      "_________________________________________________________________\n",
      "dense_68 (Dense)             (None, 1)                 11        \n",
      "=================================================================\n",
      "Total params: 788,193\n",
      "Trainable params: 788,193\n",
      "Non-trainable params: 0\n",
      "_________________________________________________________________\n"
     ]
    },
    {
     "name": "stderr",
     "output_type": "stream",
     "text": [
      "C:\\Users\\ADMIN\\anaconda3\\envs\\AlexEnv\\lib\\site-packages\\tensorflow_core\\python\\framework\\indexed_slices.py:433: UserWarning: Converting sparse IndexedSlices to a dense Tensor of unknown shape. This may consume a large amount of memory.\n",
      "  \"Converting sparse IndexedSlices to a dense Tensor of unknown shape. \"\n"
     ]
    },
    {
     "name": "stdout",
     "output_type": "stream",
     "text": [
      "Epoch 1/8\n",
      "3789/3789 [==============================] - 7s 2ms/step - loss: 0.2332 - accuracy: 0.9155\n",
      "Epoch 2/8\n",
      "3789/3789 [==============================] - 6s 2ms/step - loss: 0.1011 - accuracy: 0.9892\n",
      "Epoch 3/8\n",
      "3789/3789 [==============================] - 7s 2ms/step - loss: 0.0170 - accuracy: 0.9955\n",
      "Epoch 4/8\n",
      "3789/3789 [==============================] - 6s 2ms/step - loss: 0.0050 - accuracy: 0.9989\n",
      "Epoch 5/8\n",
      "3789/3789 [==============================] - 6s 2ms/step - loss: 0.0034 - accuracy: 0.9995\n",
      "Epoch 6/8\n",
      "3789/3789 [==============================] - 7s 2ms/step - loss: 0.0019 - accuracy: 0.9995\n",
      "Epoch 7/8\n",
      "3789/3789 [==============================] - 7s 2ms/step - loss: 0.0018 - accuracy: 0.9997\n",
      "Epoch 8/8\n",
      "3789/3789 [==============================] - 7s 2ms/step - loss: 0.0012 - accuracy: 0.9997\n",
      "947/947 [==============================] - 0s 208us/step\n",
      "Model: \"sequential_35\"\n",
      "_________________________________________________________________\n",
      "Layer (type)                 Output Shape              Param #   \n",
      "=================================================================\n",
      "embedding_35 (Embedding)     (None, 81, 100)           750700    \n",
      "_________________________________________________________________\n",
      "conv1d_35 (Conv1D)           (None, 74, 32)            25632     \n",
      "_________________________________________________________________\n",
      "max_pooling1d_35 (MaxPooling (None, 37, 32)            0         \n",
      "_________________________________________________________________\n",
      "flatten_35 (Flatten)         (None, 1184)              0         \n",
      "_________________________________________________________________\n",
      "dense_69 (Dense)             (None, 10)                11850     \n",
      "_________________________________________________________________\n",
      "dense_70 (Dense)             (None, 1)                 11        \n",
      "=================================================================\n",
      "Total params: 788,193\n",
      "Trainable params: 788,193\n",
      "Non-trainable params: 0\n",
      "_________________________________________________________________\n"
     ]
    },
    {
     "name": "stderr",
     "output_type": "stream",
     "text": [
      "C:\\Users\\ADMIN\\anaconda3\\envs\\AlexEnv\\lib\\site-packages\\tensorflow_core\\python\\framework\\indexed_slices.py:433: UserWarning: Converting sparse IndexedSlices to a dense Tensor of unknown shape. This may consume a large amount of memory.\n",
      "  \"Converting sparse IndexedSlices to a dense Tensor of unknown shape. \"\n"
     ]
    },
    {
     "name": "stdout",
     "output_type": "stream",
     "text": [
      "Epoch 1/8\n",
      "3789/3789 [==============================] - 6s 2ms/step - loss: 0.1985 - accuracy: 0.9327\n",
      "Epoch 2/8\n",
      "3789/3789 [==============================] - 6s 2ms/step - loss: 0.0967 - accuracy: 0.9916\n",
      "Epoch 3/8\n",
      "3789/3789 [==============================] - 6s 2ms/step - loss: 0.0707 - accuracy: 0.9971\n",
      "Epoch 4/8\n",
      "3789/3789 [==============================] - 6s 2ms/step - loss: 0.0574 - accuracy: 0.9984\n",
      "Epoch 5/8\n",
      "3789/3789 [==============================] - 6s 2ms/step - loss: 0.0517 - accuracy: 0.9968\n",
      "Epoch 6/8\n",
      "3789/3789 [==============================] - 6s 2ms/step - loss: 0.0248 - accuracy: 0.9984\n",
      "Epoch 7/8\n",
      "3789/3789 [==============================] - 6s 2ms/step - loss: 0.0016 - accuracy: 0.9995\n",
      "Epoch 8/8\n",
      "3789/3789 [==============================] - 6s 2ms/step - loss: 2.1771e-04 - accuracy: 1.0000\n",
      "947/947 [==============================] - 0s 190us/step\n",
      "Model: \"sequential_36\"\n",
      "_________________________________________________________________\n",
      "Layer (type)                 Output Shape              Param #   \n",
      "=================================================================\n",
      "embedding_36 (Embedding)     (None, 81, 100)           750700    \n",
      "_________________________________________________________________\n",
      "conv1d_36 (Conv1D)           (None, 74, 32)            25632     \n",
      "_________________________________________________________________\n",
      "max_pooling1d_36 (MaxPooling (None, 37, 32)            0         \n",
      "_________________________________________________________________\n",
      "flatten_36 (Flatten)         (None, 1184)              0         \n",
      "_________________________________________________________________\n",
      "dense_71 (Dense)             (None, 10)                11850     \n",
      "_________________________________________________________________\n",
      "dense_72 (Dense)             (None, 1)                 11        \n",
      "=================================================================\n",
      "Total params: 788,193\n",
      "Trainable params: 788,193\n",
      "Non-trainable params: 0\n",
      "_________________________________________________________________\n"
     ]
    },
    {
     "name": "stderr",
     "output_type": "stream",
     "text": [
      "C:\\Users\\ADMIN\\anaconda3\\envs\\AlexEnv\\lib\\site-packages\\tensorflow_core\\python\\framework\\indexed_slices.py:433: UserWarning: Converting sparse IndexedSlices to a dense Tensor of unknown shape. This may consume a large amount of memory.\n",
      "  \"Converting sparse IndexedSlices to a dense Tensor of unknown shape. \"\n"
     ]
    },
    {
     "name": "stdout",
     "output_type": "stream",
     "text": [
      "Epoch 1/8\n",
      "3789/3789 [==============================] - 6s 2ms/step - loss: 0.2104 - accuracy: 0.9303\n",
      "Epoch 2/8\n",
      "3789/3789 [==============================] - 6s 2ms/step - loss: 0.0987 - accuracy: 0.9897\n",
      "Epoch 3/8\n",
      "3789/3789 [==============================] - 6s 2ms/step - loss: 0.0740 - accuracy: 0.9963\n",
      "Epoch 4/8\n",
      "3789/3789 [==============================] - 6s 2ms/step - loss: 0.0594 - accuracy: 0.9971\n",
      "Epoch 5/8\n",
      "3789/3789 [==============================] - 7s 2ms/step - loss: 0.0486 - accuracy: 0.9989\n",
      "Epoch 6/8\n",
      "3789/3789 [==============================] - 6s 2ms/step - loss: 0.0415 - accuracy: 0.9987: 0s - loss: 0.0416 - accuracy: 0.\n",
      "Epoch 7/8\n",
      "3789/3789 [==============================] - 6s 2ms/step - loss: 0.0110 - accuracy: 0.9984\n",
      "Epoch 8/8\n",
      "3789/3789 [==============================] - 6s 2ms/step - loss: 0.0028 - accuracy: 0.9997\n",
      "947/947 [==============================] - 0s 188us/step\n",
      "Model: \"sequential_37\"\n",
      "_________________________________________________________________\n",
      "Layer (type)                 Output Shape              Param #   \n",
      "=================================================================\n",
      "embedding_37 (Embedding)     (None, 81, 100)           750700    \n",
      "_________________________________________________________________\n",
      "conv1d_37 (Conv1D)           (None, 74, 32)            25632     \n",
      "_________________________________________________________________\n",
      "max_pooling1d_37 (MaxPooling (None, 37, 32)            0         \n",
      "_________________________________________________________________\n",
      "flatten_37 (Flatten)         (None, 1184)              0         \n",
      "_________________________________________________________________\n",
      "dense_73 (Dense)             (None, 10)                11850     \n",
      "_________________________________________________________________\n",
      "dense_74 (Dense)             (None, 1)                 11        \n",
      "=================================================================\n",
      "Total params: 788,193\n",
      "Trainable params: 788,193\n",
      "Non-trainable params: 0\n",
      "_________________________________________________________________\n"
     ]
    },
    {
     "name": "stderr",
     "output_type": "stream",
     "text": [
      "C:\\Users\\ADMIN\\anaconda3\\envs\\AlexEnv\\lib\\site-packages\\tensorflow_core\\python\\framework\\indexed_slices.py:433: UserWarning: Converting sparse IndexedSlices to a dense Tensor of unknown shape. This may consume a large amount of memory.\n",
      "  \"Converting sparse IndexedSlices to a dense Tensor of unknown shape. \"\n"
     ]
    },
    {
     "name": "stdout",
     "output_type": "stream",
     "text": [
      "Epoch 1/4\n",
      "3788/3788 [==============================] - 4s 1ms/step - loss: 0.2248 - accuracy: 0.9190\n",
      "Epoch 2/4\n",
      "3788/3788 [==============================] - 4s 1ms/step - loss: 0.1066 - accuracy: 0.9884\n",
      "Epoch 3/4\n",
      "3788/3788 [==============================] - 4s 1ms/step - loss: 0.0823 - accuracy: 0.9960\n",
      "Epoch 4/4\n",
      "3788/3788 [==============================] - 4s 1ms/step - loss: 0.0714 - accuracy: 0.9968\n",
      "948/948 [==============================] - 0s 112us/step\n",
      "Model: \"sequential_38\"\n",
      "_________________________________________________________________\n",
      "Layer (type)                 Output Shape              Param #   \n",
      "=================================================================\n",
      "embedding_38 (Embedding)     (None, 81, 100)           750700    \n",
      "_________________________________________________________________\n",
      "conv1d_38 (Conv1D)           (None, 74, 32)            25632     \n",
      "_________________________________________________________________\n",
      "max_pooling1d_38 (MaxPooling (None, 37, 32)            0         \n",
      "_________________________________________________________________\n",
      "flatten_38 (Flatten)         (None, 1184)              0         \n",
      "_________________________________________________________________\n",
      "dense_75 (Dense)             (None, 10)                11850     \n",
      "_________________________________________________________________\n",
      "dense_76 (Dense)             (None, 1)                 11        \n",
      "=================================================================\n",
      "Total params: 788,193\n",
      "Trainable params: 788,193\n",
      "Non-trainable params: 0\n",
      "_________________________________________________________________\n"
     ]
    },
    {
     "name": "stderr",
     "output_type": "stream",
     "text": [
      "C:\\Users\\ADMIN\\anaconda3\\envs\\AlexEnv\\lib\\site-packages\\tensorflow_core\\python\\framework\\indexed_slices.py:433: UserWarning: Converting sparse IndexedSlices to a dense Tensor of unknown shape. This may consume a large amount of memory.\n",
      "  \"Converting sparse IndexedSlices to a dense Tensor of unknown shape. \"\n"
     ]
    },
    {
     "name": "stdout",
     "output_type": "stream",
     "text": [
      "Epoch 1/4\n",
      "3789/3789 [==============================] - 4s 1ms/step - loss: 0.2406 - accuracy: 0.9055\n",
      "Epoch 2/4\n",
      "3789/3789 [==============================] - 4s 1ms/step - loss: 0.1080 - accuracy: 0.9913: 0s - loss: 0.110\n",
      "Epoch 3/4\n",
      "3789/3789 [==============================] - 4s 1ms/step - loss: 0.0854 - accuracy: 0.9963\n",
      "Epoch 4/4\n",
      "3789/3789 [==============================] - 4s 1ms/step - loss: 0.0742 - accuracy: 0.9971\n",
      "947/947 [==============================] - 0s 111us/step\n",
      "Model: \"sequential_39\"\n",
      "_________________________________________________________________\n",
      "Layer (type)                 Output Shape              Param #   \n",
      "=================================================================\n",
      "embedding_39 (Embedding)     (None, 81, 100)           750700    \n",
      "_________________________________________________________________\n",
      "conv1d_39 (Conv1D)           (None, 74, 32)            25632     \n",
      "_________________________________________________________________\n",
      "max_pooling1d_39 (MaxPooling (None, 37, 32)            0         \n",
      "_________________________________________________________________\n",
      "flatten_39 (Flatten)         (None, 1184)              0         \n",
      "_________________________________________________________________\n",
      "dense_77 (Dense)             (None, 10)                11850     \n",
      "_________________________________________________________________\n",
      "dense_78 (Dense)             (None, 1)                 11        \n",
      "=================================================================\n",
      "Total params: 788,193\n",
      "Trainable params: 788,193\n",
      "Non-trainable params: 0\n",
      "_________________________________________________________________\n"
     ]
    },
    {
     "name": "stderr",
     "output_type": "stream",
     "text": [
      "C:\\Users\\ADMIN\\anaconda3\\envs\\AlexEnv\\lib\\site-packages\\tensorflow_core\\python\\framework\\indexed_slices.py:433: UserWarning: Converting sparse IndexedSlices to a dense Tensor of unknown shape. This may consume a large amount of memory.\n",
      "  \"Converting sparse IndexedSlices to a dense Tensor of unknown shape. \"\n"
     ]
    },
    {
     "name": "stdout",
     "output_type": "stream",
     "text": [
      "Epoch 1/4\n",
      "3789/3789 [==============================] - 4s 1ms/step - loss: 0.2730 - accuracy: 0.8841\n",
      "Epoch 2/4\n",
      "3789/3789 [==============================] - 4s 1ms/step - loss: 0.1172 - accuracy: 0.9857\n",
      "Epoch 3/4\n",
      "3789/3789 [==============================] - 4s 1ms/step - loss: 0.0903 - accuracy: 0.9955\n",
      "Epoch 4/4\n",
      "3789/3789 [==============================] - 4s 1ms/step - loss: 0.0781 - accuracy: 0.9966\n",
      "947/947 [==============================] - 0s 107us/step\n",
      "Model: \"sequential_40\"\n",
      "_________________________________________________________________\n",
      "Layer (type)                 Output Shape              Param #   \n",
      "=================================================================\n",
      "embedding_40 (Embedding)     (None, 81, 100)           750700    \n",
      "_________________________________________________________________\n",
      "conv1d_40 (Conv1D)           (None, 74, 32)            25632     \n",
      "_________________________________________________________________\n",
      "max_pooling1d_40 (MaxPooling (None, 37, 32)            0         \n",
      "_________________________________________________________________\n",
      "flatten_40 (Flatten)         (None, 1184)              0         \n",
      "_________________________________________________________________\n",
      "dense_79 (Dense)             (None, 10)                11850     \n",
      "_________________________________________________________________\n",
      "dense_80 (Dense)             (None, 1)                 11        \n",
      "=================================================================\n",
      "Total params: 788,193\n",
      "Trainable params: 788,193\n",
      "Non-trainable params: 0\n",
      "_________________________________________________________________\n"
     ]
    },
    {
     "name": "stderr",
     "output_type": "stream",
     "text": [
      "C:\\Users\\ADMIN\\anaconda3\\envs\\AlexEnv\\lib\\site-packages\\tensorflow_core\\python\\framework\\indexed_slices.py:433: UserWarning: Converting sparse IndexedSlices to a dense Tensor of unknown shape. This may consume a large amount of memory.\n",
      "  \"Converting sparse IndexedSlices to a dense Tensor of unknown shape. \"\n"
     ]
    },
    {
     "name": "stdout",
     "output_type": "stream",
     "text": [
      "Epoch 1/4\n",
      "3789/3789 [==============================] - 4s 1ms/step - loss: 0.2240 - accuracy: 0.9184\n",
      "Epoch 2/4\n",
      "3789/3789 [==============================] - 4s 1ms/step - loss: 0.1007 - accuracy: 0.9916\n",
      "Epoch 3/4\n",
      "3789/3789 [==============================] - 4s 1ms/step - loss: 0.0815 - accuracy: 0.9963\n",
      "Epoch 4/4\n",
      "3789/3789 [==============================] - 4s 1ms/step - loss: 0.0706 - accuracy: 0.9974\n",
      "947/947 [==============================] - 0s 107us/step\n",
      "Model: \"sequential_41\"\n",
      "_________________________________________________________________\n",
      "Layer (type)                 Output Shape              Param #   \n",
      "=================================================================\n",
      "embedding_41 (Embedding)     (None, 81, 100)           750700    \n",
      "_________________________________________________________________\n",
      "conv1d_41 (Conv1D)           (None, 74, 32)            25632     \n",
      "_________________________________________________________________\n",
      "max_pooling1d_41 (MaxPooling (None, 37, 32)            0         \n",
      "_________________________________________________________________\n",
      "flatten_41 (Flatten)         (None, 1184)              0         \n",
      "_________________________________________________________________\n",
      "dense_81 (Dense)             (None, 10)                11850     \n",
      "_________________________________________________________________\n",
      "dense_82 (Dense)             (None, 1)                 11        \n",
      "=================================================================\n",
      "Total params: 788,193\n",
      "Trainable params: 788,193\n",
      "Non-trainable params: 0\n",
      "_________________________________________________________________\n"
     ]
    },
    {
     "name": "stderr",
     "output_type": "stream",
     "text": [
      "C:\\Users\\ADMIN\\anaconda3\\envs\\AlexEnv\\lib\\site-packages\\tensorflow_core\\python\\framework\\indexed_slices.py:433: UserWarning: Converting sparse IndexedSlices to a dense Tensor of unknown shape. This may consume a large amount of memory.\n",
      "  \"Converting sparse IndexedSlices to a dense Tensor of unknown shape. \"\n"
     ]
    },
    {
     "name": "stdout",
     "output_type": "stream",
     "text": [
      "Epoch 1/4\n",
      "3789/3789 [==============================] - 4s 1ms/step - loss: 0.2456 - accuracy: 0.9055\n",
      "Epoch 2/4\n",
      "3789/3789 [==============================] - 4s 1ms/step - loss: 0.1104 - accuracy: 0.9900\n",
      "Epoch 3/4\n",
      "3789/3789 [==============================] - 4s 1ms/step - loss: 0.0849 - accuracy: 0.9968\n",
      "Epoch 4/4\n",
      "3789/3789 [==============================] - 4s 1ms/step - loss: 0.0722 - accuracy: 0.9984\n",
      "947/947 [==============================] - 0s 108us/step\n",
      "Model: \"sequential_42\"\n",
      "_________________________________________________________________\n",
      "Layer (type)                 Output Shape              Param #   \n",
      "=================================================================\n",
      "embedding_42 (Embedding)     (None, 81, 100)           750700    \n",
      "_________________________________________________________________\n",
      "conv1d_42 (Conv1D)           (None, 74, 32)            25632     \n",
      "_________________________________________________________________\n",
      "max_pooling1d_42 (MaxPooling (None, 37, 32)            0         \n",
      "_________________________________________________________________\n",
      "flatten_42 (Flatten)         (None, 1184)              0         \n",
      "_________________________________________________________________\n",
      "dense_83 (Dense)             (None, 10)                11850     \n",
      "_________________________________________________________________\n",
      "dense_84 (Dense)             (None, 1)                 11        \n",
      "=================================================================\n",
      "Total params: 788,193\n",
      "Trainable params: 788,193\n",
      "Non-trainable params: 0\n",
      "_________________________________________________________________\n"
     ]
    },
    {
     "name": "stderr",
     "output_type": "stream",
     "text": [
      "C:\\Users\\ADMIN\\anaconda3\\envs\\AlexEnv\\lib\\site-packages\\tensorflow_core\\python\\framework\\indexed_slices.py:433: UserWarning: Converting sparse IndexedSlices to a dense Tensor of unknown shape. This may consume a large amount of memory.\n",
      "  \"Converting sparse IndexedSlices to a dense Tensor of unknown shape. \"\n"
     ]
    },
    {
     "name": "stdout",
     "output_type": "stream",
     "text": [
      "Epoch 1/6\n",
      "3788/3788 [==============================] - 5s 1ms/step - loss: 0.2047 - accuracy: 0.9187\n",
      "Epoch 2/6\n",
      "3788/3788 [==============================] - 5s 1ms/step - loss: 0.0304 - accuracy: 0.9929\n",
      "Epoch 3/6\n",
      "3788/3788 [==============================] - 5s 1ms/step - loss: 0.0070 - accuracy: 0.9987\n",
      "Epoch 4/6\n",
      "3788/3788 [==============================] - 5s 1ms/step - loss: 0.0040 - accuracy: 0.9995\n",
      "Epoch 5/6\n",
      "3788/3788 [==============================] - 5s 1ms/step - loss: 0.0038 - accuracy: 0.9995\n",
      "Epoch 6/6\n",
      "3788/3788 [==============================] - 5s 1ms/step - loss: 0.0022 - accuracy: 0.9995\n",
      "948/948 [==============================] - 0s 182us/step\n",
      "Model: \"sequential_43\"\n",
      "_________________________________________________________________\n",
      "Layer (type)                 Output Shape              Param #   \n",
      "=================================================================\n",
      "embedding_43 (Embedding)     (None, 81, 100)           750700    \n",
      "_________________________________________________________________\n",
      "conv1d_43 (Conv1D)           (None, 74, 32)            25632     \n",
      "_________________________________________________________________\n",
      "max_pooling1d_43 (MaxPooling (None, 37, 32)            0         \n",
      "_________________________________________________________________\n",
      "flatten_43 (Flatten)         (None, 1184)              0         \n",
      "_________________________________________________________________\n",
      "dense_85 (Dense)             (None, 10)                11850     \n",
      "_________________________________________________________________\n",
      "dense_86 (Dense)             (None, 1)                 11        \n",
      "=================================================================\n",
      "Total params: 788,193\n",
      "Trainable params: 788,193\n",
      "Non-trainable params: 0\n",
      "_________________________________________________________________\n"
     ]
    },
    {
     "name": "stderr",
     "output_type": "stream",
     "text": [
      "C:\\Users\\ADMIN\\anaconda3\\envs\\AlexEnv\\lib\\site-packages\\tensorflow_core\\python\\framework\\indexed_slices.py:433: UserWarning: Converting sparse IndexedSlices to a dense Tensor of unknown shape. This may consume a large amount of memory.\n",
      "  \"Converting sparse IndexedSlices to a dense Tensor of unknown shape. \"\n"
     ]
    },
    {
     "name": "stdout",
     "output_type": "stream",
     "text": [
      "Epoch 1/6\n",
      "3789/3789 [==============================] - 6s 2ms/step - loss: 0.1729 - accuracy: 0.9388\n",
      "Epoch 2/6\n",
      "3789/3789 [==============================] - 5s 1ms/step - loss: 0.0260 - accuracy: 0.9923\n",
      "Epoch 3/6\n",
      "3789/3789 [==============================] - 5s 1ms/step - loss: 0.0076 - accuracy: 0.9987\n",
      "Epoch 4/6\n",
      "3789/3789 [==============================] - 5s 1ms/step - loss: 0.0047 - accuracy: 0.9989\n",
      "Epoch 5/6\n",
      "3789/3789 [==============================] - 5s 1ms/step - loss: 0.0033 - accuracy: 0.9995\n",
      "Epoch 6/6\n",
      "3789/3789 [==============================] - 5s 1ms/step - loss: 0.0020 - accuracy: 0.9995\n",
      "947/947 [==============================] - 0s 214us/step\n",
      "Model: \"sequential_44\"\n",
      "_________________________________________________________________\n",
      "Layer (type)                 Output Shape              Param #   \n",
      "=================================================================\n",
      "embedding_44 (Embedding)     (None, 81, 100)           750700    \n",
      "_________________________________________________________________\n",
      "conv1d_44 (Conv1D)           (None, 74, 32)            25632     \n",
      "_________________________________________________________________\n",
      "max_pooling1d_44 (MaxPooling (None, 37, 32)            0         \n",
      "_________________________________________________________________\n",
      "flatten_44 (Flatten)         (None, 1184)              0         \n",
      "_________________________________________________________________\n",
      "dense_87 (Dense)             (None, 10)                11850     \n",
      "_________________________________________________________________\n",
      "dense_88 (Dense)             (None, 1)                 11        \n",
      "=================================================================\n",
      "Total params: 788,193\n",
      "Trainable params: 788,193\n",
      "Non-trainable params: 0\n",
      "_________________________________________________________________\n"
     ]
    },
    {
     "name": "stderr",
     "output_type": "stream",
     "text": [
      "C:\\Users\\ADMIN\\anaconda3\\envs\\AlexEnv\\lib\\site-packages\\tensorflow_core\\python\\framework\\indexed_slices.py:433: UserWarning: Converting sparse IndexedSlices to a dense Tensor of unknown shape. This may consume a large amount of memory.\n",
      "  \"Converting sparse IndexedSlices to a dense Tensor of unknown shape. \"\n"
     ]
    },
    {
     "name": "stdout",
     "output_type": "stream",
     "text": [
      "Epoch 1/6\n",
      "3789/3789 [==============================] - 6s 1ms/step - loss: 0.2364 - accuracy: 0.9076\n",
      "Epoch 2/6\n",
      "3789/3789 [==============================] - 5s 1ms/step - loss: 0.0460 - accuracy: 0.9897\n",
      "Epoch 3/6\n",
      "3789/3789 [==============================] - 5s 1ms/step - loss: 0.0099 - accuracy: 0.9974\n",
      "Epoch 4/6\n",
      "3789/3789 [==============================] - 5s 1ms/step - loss: 0.0043 - accuracy: 0.9992\n",
      "Epoch 5/6\n",
      "3789/3789 [==============================] - 5s 1ms/step - loss: 0.0032 - accuracy: 0.9995\n",
      "Epoch 6/6\n",
      "3789/3789 [==============================] - 5s 1ms/step - loss: 0.0021 - accuracy: 0.9995\n",
      "947/947 [==============================] - 0s 186us/step\n",
      "Model: \"sequential_45\"\n",
      "_________________________________________________________________\n",
      "Layer (type)                 Output Shape              Param #   \n",
      "=================================================================\n",
      "embedding_45 (Embedding)     (None, 81, 100)           750700    \n",
      "_________________________________________________________________\n",
      "conv1d_45 (Conv1D)           (None, 74, 32)            25632     \n",
      "_________________________________________________________________\n",
      "max_pooling1d_45 (MaxPooling (None, 37, 32)            0         \n",
      "_________________________________________________________________\n",
      "flatten_45 (Flatten)         (None, 1184)              0         \n",
      "_________________________________________________________________\n",
      "dense_89 (Dense)             (None, 10)                11850     \n",
      "_________________________________________________________________\n",
      "dense_90 (Dense)             (None, 1)                 11        \n",
      "=================================================================\n",
      "Total params: 788,193\n",
      "Trainable params: 788,193\n",
      "Non-trainable params: 0\n",
      "_________________________________________________________________\n"
     ]
    },
    {
     "name": "stderr",
     "output_type": "stream",
     "text": [
      "C:\\Users\\ADMIN\\anaconda3\\envs\\AlexEnv\\lib\\site-packages\\tensorflow_core\\python\\framework\\indexed_slices.py:433: UserWarning: Converting sparse IndexedSlices to a dense Tensor of unknown shape. This may consume a large amount of memory.\n",
      "  \"Converting sparse IndexedSlices to a dense Tensor of unknown shape. \"\n"
     ]
    },
    {
     "name": "stdout",
     "output_type": "stream",
     "text": [
      "Epoch 1/6\n",
      "3789/3789 [==============================] - 5s 1ms/step - loss: 0.2309 - accuracy: 0.9169\n",
      "Epoch 2/6\n",
      "3789/3789 [==============================] - 5s 1ms/step - loss: 0.1025 - accuracy: 0.9900\n",
      "Epoch 3/6\n",
      "3789/3789 [==============================] - 5s 1ms/step - loss: 0.0798 - accuracy: 0.9960\n",
      "Epoch 4/6\n",
      "3789/3789 [==============================] - 5s 1ms/step - loss: 0.0212 - accuracy: 0.9976\n",
      "Epoch 5/6\n",
      "3789/3789 [==============================] - 5s 1ms/step - loss: 0.0048 - accuracy: 0.9989\n",
      "Epoch 6/6\n",
      "3789/3789 [==============================] - 5s 1ms/step - loss: 0.0017 - accuracy: 0.9995\n",
      "947/947 [==============================] - 0s 177us/step\n",
      "Model: \"sequential_46\"\n",
      "_________________________________________________________________\n",
      "Layer (type)                 Output Shape              Param #   \n",
      "=================================================================\n",
      "embedding_46 (Embedding)     (None, 81, 100)           750700    \n",
      "_________________________________________________________________\n",
      "conv1d_46 (Conv1D)           (None, 74, 32)            25632     \n",
      "_________________________________________________________________\n",
      "max_pooling1d_46 (MaxPooling (None, 37, 32)            0         \n",
      "_________________________________________________________________\n",
      "flatten_46 (Flatten)         (None, 1184)              0         \n",
      "_________________________________________________________________\n",
      "dense_91 (Dense)             (None, 10)                11850     \n",
      "_________________________________________________________________\n",
      "dense_92 (Dense)             (None, 1)                 11        \n",
      "=================================================================\n",
      "Total params: 788,193\n",
      "Trainable params: 788,193\n",
      "Non-trainable params: 0\n",
      "_________________________________________________________________\n"
     ]
    },
    {
     "name": "stderr",
     "output_type": "stream",
     "text": [
      "C:\\Users\\ADMIN\\anaconda3\\envs\\AlexEnv\\lib\\site-packages\\tensorflow_core\\python\\framework\\indexed_slices.py:433: UserWarning: Converting sparse IndexedSlices to a dense Tensor of unknown shape. This may consume a large amount of memory.\n",
      "  \"Converting sparse IndexedSlices to a dense Tensor of unknown shape. \"\n"
     ]
    },
    {
     "name": "stdout",
     "output_type": "stream",
     "text": [
      "Epoch 1/6\n",
      "3789/3789 [==============================] - 5s 1ms/step - loss: 0.1782 - accuracy: 0.9385: 0s - loss: 0.1887 - ac\n",
      "Epoch 2/6\n",
      "3789/3789 [==============================] - 5s 1ms/step - loss: 0.0265 - accuracy: 0.9923\n",
      "Epoch 3/6\n",
      "3789/3789 [==============================] - 5s 1ms/step - loss: 0.0084 - accuracy: 0.9979\n",
      "Epoch 4/6\n",
      "3789/3789 [==============================] - 5s 1ms/step - loss: 0.0040 - accuracy: 0.9992\n",
      "Epoch 5/6\n",
      "3789/3789 [==============================] - 5s 1ms/step - loss: 0.0022 - accuracy: 0.9997\n",
      "Epoch 6/6\n",
      "3789/3789 [==============================] - 5s 1ms/step - loss: 0.0021 - accuracy: 0.9997\n",
      "947/947 [==============================] - 0s 176us/step\n",
      "Model: \"sequential_47\"\n",
      "_________________________________________________________________\n",
      "Layer (type)                 Output Shape              Param #   \n",
      "=================================================================\n",
      "embedding_47 (Embedding)     (None, 81, 100)           750700    \n",
      "_________________________________________________________________\n",
      "conv1d_47 (Conv1D)           (None, 74, 32)            25632     \n",
      "_________________________________________________________________\n",
      "max_pooling1d_47 (MaxPooling (None, 37, 32)            0         \n",
      "_________________________________________________________________\n",
      "flatten_47 (Flatten)         (None, 1184)              0         \n",
      "_________________________________________________________________\n",
      "dense_93 (Dense)             (None, 10)                11850     \n",
      "_________________________________________________________________\n",
      "dense_94 (Dense)             (None, 1)                 11        \n",
      "=================================================================\n",
      "Total params: 788,193\n",
      "Trainable params: 788,193\n",
      "Non-trainable params: 0\n",
      "_________________________________________________________________\n"
     ]
    },
    {
     "name": "stderr",
     "output_type": "stream",
     "text": [
      "C:\\Users\\ADMIN\\anaconda3\\envs\\AlexEnv\\lib\\site-packages\\tensorflow_core\\python\\framework\\indexed_slices.py:433: UserWarning: Converting sparse IndexedSlices to a dense Tensor of unknown shape. This may consume a large amount of memory.\n",
      "  \"Converting sparse IndexedSlices to a dense Tensor of unknown shape. \"\n"
     ]
    },
    {
     "name": "stdout",
     "output_type": "stream",
     "text": [
      "Epoch 1/8\n",
      "3788/3788 [==============================] - 10s 3ms/step - loss: 0.1902 - accuracy: 0.9435\n",
      "Epoch 2/8\n",
      "3788/3788 [==============================] - 10s 3ms/step - loss: 0.0892 - accuracy: 0.9908\n",
      "Epoch 3/8\n",
      "3788/3788 [==============================] - 10s 3ms/step - loss: 0.0643 - accuracy: 0.9947\n",
      "Epoch 4/8\n",
      "3788/3788 [==============================] - 10s 3ms/step - loss: 0.0473 - accuracy: 0.9971\n",
      "Epoch 5/8\n",
      "3788/3788 [==============================] - 10s 3ms/step - loss: 0.0383 - accuracy: 0.9971\n",
      "Epoch 6/8\n",
      "3788/3788 [==============================] - 10s 3ms/step - loss: 0.0283 - accuracy: 0.9979\n",
      "Epoch 7/8\n",
      "3788/3788 [==============================] - 10s 3ms/step - loss: 0.0125 - accuracy: 0.9958\n",
      "Epoch 8/8\n",
      "3788/3788 [==============================] - 10s 3ms/step - loss: 0.0019 - accuracy: 0.9995\n",
      "948/948 [==============================] - 0s 235us/step\n",
      "Model: \"sequential_48\"\n",
      "_________________________________________________________________\n",
      "Layer (type)                 Output Shape              Param #   \n",
      "=================================================================\n",
      "embedding_48 (Embedding)     (None, 81, 100)           750700    \n",
      "_________________________________________________________________\n",
      "conv1d_48 (Conv1D)           (None, 74, 32)            25632     \n",
      "_________________________________________________________________\n",
      "max_pooling1d_48 (MaxPooling (None, 37, 32)            0         \n",
      "_________________________________________________________________\n",
      "flatten_48 (Flatten)         (None, 1184)              0         \n",
      "_________________________________________________________________\n",
      "dense_95 (Dense)             (None, 10)                11850     \n",
      "_________________________________________________________________\n",
      "dense_96 (Dense)             (None, 1)                 11        \n",
      "=================================================================\n",
      "Total params: 788,193\n",
      "Trainable params: 788,193\n",
      "Non-trainable params: 0\n",
      "_________________________________________________________________\n"
     ]
    },
    {
     "name": "stderr",
     "output_type": "stream",
     "text": [
      "C:\\Users\\ADMIN\\anaconda3\\envs\\AlexEnv\\lib\\site-packages\\tensorflow_core\\python\\framework\\indexed_slices.py:433: UserWarning: Converting sparse IndexedSlices to a dense Tensor of unknown shape. This may consume a large amount of memory.\n",
      "  \"Converting sparse IndexedSlices to a dense Tensor of unknown shape. \"\n"
     ]
    },
    {
     "name": "stdout",
     "output_type": "stream",
     "text": [
      "Epoch 1/8\n",
      "3789/3789 [==============================] - 10s 3ms/step - loss: 0.1955 - accuracy: 0.9364\n",
      "Epoch 2/8\n",
      "3789/3789 [==============================] - 10s 3ms/step - loss: 0.0293 - accuracy: 0.9918\n",
      "Epoch 3/8\n",
      "3789/3789 [==============================] - 10s 3ms/step - loss: 0.0060 - accuracy: 0.9989\n",
      "Epoch 4/8\n",
      "3789/3789 [==============================] - 10s 3ms/step - loss: 0.0038 - accuracy: 0.9989\n",
      "Epoch 5/8\n",
      "3789/3789 [==============================] - 10s 3ms/step - loss: 0.0025 - accuracy: 0.9995\n",
      "Epoch 6/8\n",
      "3789/3789 [==============================] - 10s 3ms/step - loss: 0.0018 - accuracy: 0.9992\n",
      "Epoch 7/8\n",
      "3789/3789 [==============================] - 10s 3ms/step - loss: 0.0021 - accuracy: 0.9992\n",
      "Epoch 8/8\n",
      "3789/3789 [==============================] - 10s 3ms/step - loss: 0.0031 - accuracy: 0.9992\n",
      "947/947 [==============================] - 0s 286us/step\n",
      "Model: \"sequential_49\"\n",
      "_________________________________________________________________\n",
      "Layer (type)                 Output Shape              Param #   \n",
      "=================================================================\n",
      "embedding_49 (Embedding)     (None, 81, 100)           750700    \n",
      "_________________________________________________________________\n",
      "conv1d_49 (Conv1D)           (None, 74, 32)            25632     \n",
      "_________________________________________________________________\n",
      "max_pooling1d_49 (MaxPooling (None, 37, 32)            0         \n",
      "_________________________________________________________________\n",
      "flatten_49 (Flatten)         (None, 1184)              0         \n",
      "_________________________________________________________________\n",
      "dense_97 (Dense)             (None, 10)                11850     \n",
      "_________________________________________________________________\n",
      "dense_98 (Dense)             (None, 1)                 11        \n",
      "=================================================================\n",
      "Total params: 788,193\n",
      "Trainable params: 788,193\n",
      "Non-trainable params: 0\n",
      "_________________________________________________________________\n"
     ]
    },
    {
     "name": "stderr",
     "output_type": "stream",
     "text": [
      "C:\\Users\\ADMIN\\anaconda3\\envs\\AlexEnv\\lib\\site-packages\\tensorflow_core\\python\\framework\\indexed_slices.py:433: UserWarning: Converting sparse IndexedSlices to a dense Tensor of unknown shape. This may consume a large amount of memory.\n",
      "  \"Converting sparse IndexedSlices to a dense Tensor of unknown shape. \"\n"
     ]
    },
    {
     "name": "stdout",
     "output_type": "stream",
     "text": [
      "Epoch 1/8\n",
      "3789/3789 [==============================] - 11s 3ms/step - loss: 0.1971 - accuracy: 0.9388\n",
      "Epoch 2/8\n",
      "3789/3789 [==============================] - 11s 3ms/step - loss: 0.0918 - accuracy: 0.9894\n",
      "Epoch 3/8\n",
      "3789/3789 [==============================] - 11s 3ms/step - loss: 0.0645 - accuracy: 0.9952\n",
      "Epoch 4/8\n",
      "3789/3789 [==============================] - 10s 3ms/step - loss: 0.0492 - accuracy: 0.9971\n",
      "Epoch 5/8\n",
      "3789/3789 [==============================] - 10s 3ms/step - loss: 0.0375 - accuracy: 0.9971\n",
      "Epoch 6/8\n",
      "3789/3789 [==============================] - 10s 3ms/step - loss: 0.0078 - accuracy: 0.9968\n",
      "Epoch 7/8\n",
      "3789/3789 [==============================] - 10s 3ms/step - loss: 0.0025 - accuracy: 0.9989 0s - loss: 0.0026 - accu\n",
      "Epoch 8/8\n",
      "3789/3789 [==============================] - 10s 3ms/step - loss: 0.0011 - accuracy: 0.9997\n",
      "947/947 [==============================] - 0s 237us/step\n",
      "Model: \"sequential_50\"\n",
      "_________________________________________________________________\n",
      "Layer (type)                 Output Shape              Param #   \n",
      "=================================================================\n",
      "embedding_50 (Embedding)     (None, 81, 100)           750700    \n",
      "_________________________________________________________________\n",
      "conv1d_50 (Conv1D)           (None, 74, 32)            25632     \n",
      "_________________________________________________________________\n",
      "max_pooling1d_50 (MaxPooling (None, 37, 32)            0         \n",
      "_________________________________________________________________\n",
      "flatten_50 (Flatten)         (None, 1184)              0         \n",
      "_________________________________________________________________\n",
      "dense_99 (Dense)             (None, 10)                11850     \n",
      "_________________________________________________________________\n",
      "dense_100 (Dense)            (None, 1)                 11        \n",
      "=================================================================\n",
      "Total params: 788,193\n",
      "Trainable params: 788,193\n",
      "Non-trainable params: 0\n",
      "_________________________________________________________________\n"
     ]
    },
    {
     "name": "stderr",
     "output_type": "stream",
     "text": [
      "C:\\Users\\ADMIN\\anaconda3\\envs\\AlexEnv\\lib\\site-packages\\tensorflow_core\\python\\framework\\indexed_slices.py:433: UserWarning: Converting sparse IndexedSlices to a dense Tensor of unknown shape. This may consume a large amount of memory.\n",
      "  \"Converting sparse IndexedSlices to a dense Tensor of unknown shape. \"\n"
     ]
    },
    {
     "name": "stdout",
     "output_type": "stream",
     "text": [
      "Epoch 1/8\n",
      "3789/3789 [==============================] - 10s 3ms/step - loss: 0.1946 - accuracy: 0.9422\n",
      "Epoch 2/8\n",
      "3789/3789 [==============================] - 10s 3ms/step - loss: 0.0879 - accuracy: 0.9908\n",
      "Epoch 3/8\n",
      "3789/3789 [==============================] - 10s 3ms/step - loss: 0.0618 - accuracy: 0.9966\n",
      "Epoch 4/8\n",
      "3789/3789 [==============================] - 10s 3ms/step - loss: 0.0477 - accuracy: 0.9968\n",
      "Epoch 5/8\n",
      "3789/3789 [==============================] - 10s 3ms/step - loss: 0.0393 - accuracy: 0.9968\n",
      "Epoch 6/8\n",
      "3789/3789 [==============================] - 10s 3ms/step - loss: 0.0272 - accuracy: 0.9971\n",
      "Epoch 7/8\n",
      "3789/3789 [==============================] - 10s 3ms/step - loss: 0.0112 - accuracy: 0.9968\n",
      "Epoch 8/8\n",
      "3789/3789 [==============================] - 10s 3ms/step - loss: 0.0017 - accuracy: 0.9995\n",
      "947/947 [==============================] - 0s 232us/step\n",
      "Model: \"sequential_51\"\n",
      "_________________________________________________________________\n",
      "Layer (type)                 Output Shape              Param #   \n",
      "=================================================================\n",
      "embedding_51 (Embedding)     (None, 81, 100)           750700    \n",
      "_________________________________________________________________\n",
      "conv1d_51 (Conv1D)           (None, 74, 32)            25632     \n",
      "_________________________________________________________________\n",
      "max_pooling1d_51 (MaxPooling (None, 37, 32)            0         \n",
      "_________________________________________________________________\n",
      "flatten_51 (Flatten)         (None, 1184)              0         \n",
      "_________________________________________________________________\n",
      "dense_101 (Dense)            (None, 10)                11850     \n",
      "_________________________________________________________________\n",
      "dense_102 (Dense)            (None, 1)                 11        \n",
      "=================================================================\n",
      "Total params: 788,193\n",
      "Trainable params: 788,193\n",
      "Non-trainable params: 0\n",
      "_________________________________________________________________\n"
     ]
    },
    {
     "name": "stderr",
     "output_type": "stream",
     "text": [
      "C:\\Users\\ADMIN\\anaconda3\\envs\\AlexEnv\\lib\\site-packages\\tensorflow_core\\python\\framework\\indexed_slices.py:433: UserWarning: Converting sparse IndexedSlices to a dense Tensor of unknown shape. This may consume a large amount of memory.\n",
      "  \"Converting sparse IndexedSlices to a dense Tensor of unknown shape. \"\n"
     ]
    },
    {
     "name": "stdout",
     "output_type": "stream",
     "text": [
      "Epoch 1/8\n",
      "3789/3789 [==============================] - 10s 3ms/step - loss: 0.1491 - accuracy: 0.9470\n",
      "Epoch 2/8\n",
      "3789/3789 [==============================] - 10s 3ms/step - loss: 0.0204 - accuracy: 0.9934\n",
      "Epoch 3/8\n",
      "3789/3789 [==============================] - 10s 3ms/step - loss: 0.0043 - accuracy: 0.9989\n",
      "Epoch 4/8\n",
      "3789/3789 [==============================] - 10s 3ms/step - loss: 0.0024 - accuracy: 0.9997\n",
      "Epoch 5/8\n",
      "3789/3789 [==============================] - 10s 3ms/step - loss: 0.0016 - accuracy: 0.9997\n",
      "Epoch 6/8\n",
      "3789/3789 [==============================] - 10s 3ms/step - loss: 0.0018 - accuracy: 0.9997\n",
      "Epoch 7/8\n",
      "3789/3789 [==============================] - 10s 3ms/step - loss: 0.0016 - accuracy: 0.9997\n",
      "Epoch 8/8\n",
      "3789/3789 [==============================] - 10s 3ms/step - loss: 0.0032 - accuracy: 0.9992\n",
      "947/947 [==============================] - 0s 235us/step\n",
      "Model: \"sequential_52\"\n",
      "_________________________________________________________________\n",
      "Layer (type)                 Output Shape              Param #   \n",
      "=================================================================\n",
      "embedding_52 (Embedding)     (None, 81, 100)           750700    \n",
      "_________________________________________________________________\n",
      "conv1d_52 (Conv1D)           (None, 74, 32)            25632     \n",
      "_________________________________________________________________\n",
      "max_pooling1d_52 (MaxPooling (None, 37, 32)            0         \n",
      "_________________________________________________________________\n",
      "flatten_52 (Flatten)         (None, 1184)              0         \n",
      "_________________________________________________________________\n",
      "dense_103 (Dense)            (None, 10)                11850     \n",
      "_________________________________________________________________\n",
      "dense_104 (Dense)            (None, 1)                 11        \n",
      "=================================================================\n",
      "Total params: 788,193\n",
      "Trainable params: 788,193\n",
      "Non-trainable params: 0\n",
      "_________________________________________________________________\n"
     ]
    },
    {
     "name": "stderr",
     "output_type": "stream",
     "text": [
      "C:\\Users\\ADMIN\\anaconda3\\envs\\AlexEnv\\lib\\site-packages\\tensorflow_core\\python\\framework\\indexed_slices.py:433: UserWarning: Converting sparse IndexedSlices to a dense Tensor of unknown shape. This may consume a large amount of memory.\n",
      "  \"Converting sparse IndexedSlices to a dense Tensor of unknown shape. \"\n"
     ]
    },
    {
     "name": "stdout",
     "output_type": "stream",
     "text": [
      "Epoch 1/10\n",
      "4736/4736 [==============================] - 8s 2ms/step - loss: 0.1953 - accuracy: 0.9379\n",
      "Epoch 2/10\n",
      "4736/4736 [==============================] - 8s 2ms/step - loss: 0.0888 - accuracy: 0.9924\n",
      "Epoch 3/10\n",
      "4736/4736 [==============================] - 8s 2ms/step - loss: 0.0672 - accuracy: 0.9966: 0s - loss:\n",
      "Epoch 4/10\n",
      "4736/4736 [==============================] - 8s 2ms/step - loss: 0.0538 - accuracy: 0.9975\n",
      "Epoch 5/10\n",
      "4736/4736 [==============================] - 8s 2ms/step - loss: 0.0078 - accuracy: 0.9983\n",
      "Epoch 6/10\n",
      "4736/4736 [==============================] - 8s 2ms/step - loss: 0.0021 - accuracy: 0.9992\n",
      "Epoch 7/10\n",
      "4736/4736 [==============================] - 8s 2ms/step - loss: 0.0028 - accuracy: 0.9994\n",
      "Epoch 8/10\n",
      "4736/4736 [==============================] - 8s 2ms/step - loss: 0.0016 - accuracy: 0.9994\n",
      "Epoch 9/10\n",
      "4736/4736 [==============================] - 8s 2ms/step - loss: 9.5305e-04 - accuracy: 0.9998\n",
      "Epoch 10/10\n",
      "4736/4736 [==============================] - 8s 2ms/step - loss: 0.0012 - accuracy: 0.9998\n"
     ]
    },
    {
     "data": {
      "text/plain": [
       "RandomizedSearchCV(cv=KFold(n_splits=5, random_state=None, shuffle=False),\n",
       "                   error_score=nan,\n",
       "                   estimator=<keras.wrappers.scikit_learn.KerasClassifier object at 0x000001B3AC1F5D08>,\n",
       "                   iid='deprecated', n_iter=10, n_jobs=None,\n",
       "                   param_distributions={'batch_size': [6, 10, 14, 18],\n",
       "                                        'epochs': [2, 4, 6, 8, 10]},\n",
       "                   pre_dispatch='2*n_jobs', random_state=None, refit=True,\n",
       "                   return_train_score=False, scoring=None, verbose=0)"
      ]
     },
     "execution_count": 32,
     "metadata": {},
     "output_type": "execute_result"
    }
   ],
   "source": [
    "random_search1.fit(padded_train_df, y_train, verbose = 1)"
   ]
  },
  {
   "cell_type": "code",
   "execution_count": 39,
   "metadata": {
    "scrolled": true
   },
   "outputs": [
    {
     "data": {
      "text/plain": [
       "{'epochs': 10, 'batch_size': 10}"
      ]
     },
     "execution_count": 39,
     "metadata": {},
     "output_type": "execute_result"
    }
   ],
   "source": [
    "random_search1.best_params_    "
   ]
  },
  {
   "cell_type": "markdown",
   "metadata": {},
   "source": [
    "After tuning, the Best Parameters of Model are epochs=10,batch_size=10"
   ]
  },
  {
   "cell_type": "code",
   "execution_count": 40,
   "metadata": {
    "scrolled": true
   },
   "outputs": [
    {
     "name": "stdout",
     "output_type": "stream",
     "text": [
      "Epoch 1/10\n",
      " - 8s - loss: 0.0113 - accuracy: 0.9992\n",
      "Epoch 2/10\n",
      " - 8s - loss: 0.0023 - accuracy: 0.9994\n",
      "Epoch 3/10\n",
      " - 8s - loss: 0.0011 - accuracy: 0.9996\n",
      "Epoch 4/10\n",
      " - 8s - loss: 0.0015 - accuracy: 0.9996\n",
      "Epoch 5/10\n",
      " - 8s - loss: 0.0013 - accuracy: 0.9996\n",
      "Epoch 6/10\n",
      " - 8s - loss: 8.0348e-04 - accuracy: 0.9996\n",
      "Epoch 7/10\n",
      " - 8s - loss: 0.0014 - accuracy: 0.9996\n",
      "Epoch 8/10\n",
      " - 8s - loss: 0.0011 - accuracy: 0.9996\n",
      "Epoch 9/10\n",
      " - 8s - loss: 7.5628e-04 - accuracy: 0.9998\n",
      "Epoch 10/10\n",
      " - 8s - loss: 8.5526e-04 - accuracy: 0.9998\n"
     ]
    },
    {
     "data": {
      "text/plain": [
       "<keras.callbacks.callbacks.History at 0x1b3c6c14c08>"
      ]
     },
     "execution_count": 40,
     "metadata": {},
     "output_type": "execute_result"
    }
   ],
   "source": [
    "modelCNN.fit(padded_train_df, y_train, epochs=10,batch_size=10, verbose=2)"
   ]
  },
  {
   "cell_type": "code",
   "execution_count": 41,
   "metadata": {
    "scrolled": true
   },
   "outputs": [
    {
     "name": "stdout",
     "output_type": "stream",
     "text": [
      "Test Accuracy: 98.205739\n"
     ]
    }
   ],
   "source": [
    "# evaluate model on test dataset\n",
    "_, acc_test_tune = modelCNN.evaluate(padded_test_df, y_test, verbose=0)\n",
    "print('Test Accuracy: %f' % (acc_test_tune*100))"
   ]
  },
  {
   "cell_type": "code",
   "execution_count": 43,
   "metadata": {},
   "outputs": [],
   "source": [
    "predict_test_tune = np.round(modelCNN.predict(padded_test_df)).astype(int)"
   ]
  },
  {
   "cell_type": "code",
   "execution_count": 44,
   "metadata": {},
   "outputs": [],
   "source": [
    "predict_test_tune = predict_test_tune.flatten()\n",
    "predict_test_tune = pd.Series(predict_test_tune)"
   ]
  },
  {
   "cell_type": "code",
   "execution_count": 45,
   "metadata": {
    "scrolled": true
   },
   "outputs": [
    {
     "name": "stdout",
     "output_type": "stream",
     "text": [
      "Test F1 Score: 93.023256\n"
     ]
    }
   ],
   "source": [
    "f1_tune = f1_score(y_test.astype(int), predict_test_tune)\n",
    "print('Test F1 Score: %f' % (f1_tune*100))"
   ]
  },
  {
   "cell_type": "markdown",
   "metadata": {},
   "source": [
    "Model 1 CNN With Embedding Layer with Tuning Paramter (aka. Parameterized Model 1)\n",
    "\n",
    "Parameterized Model 1 has 100% Accuracy on Trainset and 98.2% Accuracy on Testset. Slightly lower than Model 1 on Testset.\n",
    "\n",
    "The Dataset is Imbalanced so F1-Score of Parameterized Model 1 on Testset is 93.0%."
   ]
  },
  {
   "cell_type": "markdown",
   "metadata": {},
   "source": [
    "###  Model 2 - Multi-Channel CNN With Embedding Layer "
   ]
  },
  {
   "cell_type": "markdown",
   "metadata": {},
   "source": [
    "![title](MutichanelCNN.png)"
   ]
  },
  {
   "cell_type": "code",
   "execution_count": 46,
   "metadata": {},
   "outputs": [],
   "source": [
    "# define the model\n",
    "def define_model_multi(length, vocab_size):\n",
    "    # channel 1\n",
    "    inputs1 = Input(shape=(length,))\n",
    "    embedding1 = Embedding(vocab_size, 100)(inputs1)\n",
    "    conv1 = Conv1D(filters=32, kernel_size=4, activation='relu')(embedding1)\n",
    "    drop1 = Dropout(0.5)(conv1)\n",
    "    pool1 = MaxPooling1D(pool_size=2)(drop1)\n",
    "    flat1 = Flatten()(pool1)\n",
    "    # channel 2\n",
    "    inputs2 = Input(shape=(length,))\n",
    "    embedding2 = Embedding(vocab_size, 100)(inputs2)\n",
    "    conv2 = Conv1D(filters=32, kernel_size=6, activation='relu')(embedding2)\n",
    "    drop2 = Dropout(0.5)(conv2)\n",
    "    pool2 = MaxPooling1D(pool_size=2)(drop2)\n",
    "    flat2 = Flatten()(pool2)\n",
    "    # channel 3\n",
    "    inputs3 = Input(shape=(length,))\n",
    "    embedding3 = Embedding(vocab_size, 100)(inputs3)\n",
    "    conv3 = Conv1D(filters=32, kernel_size=8, activation='relu')(embedding3)\n",
    "    drop3 = Dropout(0.5)(conv3)\n",
    "    pool3 = MaxPooling1D(pool_size=2)(drop3)\n",
    "    flat3 = Flatten()(pool3)\n",
    "    # merge\n",
    "    merged = concatenate([flat1, flat2, flat3])\n",
    "    # interpretation\n",
    "    dense1 = Dense(10, activation='relu')(merged)\n",
    "    outputs = Dense(1, activation='sigmoid')(dense1)\n",
    "    model = Model(inputs=[inputs1, inputs2, inputs3], outputs=outputs)\n",
    "    # compile\n",
    "    model.compile(loss='binary_crossentropy', optimizer='adam', metrics=['accuracy'])\n",
    "    # summarize\n",
    "    model.summary()\n",
    "    return model\n"
   ]
  },
  {
   "cell_type": "code",
   "execution_count": 47,
   "metadata": {
    "scrolled": true
   },
   "outputs": [
    {
     "name": "stdout",
     "output_type": "stream",
     "text": [
      "Model: \"model_1\"\n",
      "__________________________________________________________________________________________________\n",
      "Layer (type)                    Output Shape         Param #     Connected to                     \n",
      "==================================================================================================\n",
      "input_1 (InputLayer)            (None, 81)           0                                            \n",
      "__________________________________________________________________________________________________\n",
      "input_2 (InputLayer)            (None, 81)           0                                            \n",
      "__________________________________________________________________________________________________\n",
      "input_3 (InputLayer)            (None, 81)           0                                            \n",
      "__________________________________________________________________________________________________\n",
      "embedding_53 (Embedding)        (None, 81, 100)      750700      input_1[0][0]                    \n",
      "__________________________________________________________________________________________________\n",
      "embedding_54 (Embedding)        (None, 81, 100)      750700      input_2[0][0]                    \n",
      "__________________________________________________________________________________________________\n",
      "embedding_55 (Embedding)        (None, 81, 100)      750700      input_3[0][0]                    \n",
      "__________________________________________________________________________________________________\n",
      "conv1d_53 (Conv1D)              (None, 78, 32)       12832       embedding_53[0][0]               \n",
      "__________________________________________________________________________________________________\n",
      "conv1d_54 (Conv1D)              (None, 76, 32)       19232       embedding_54[0][0]               \n",
      "__________________________________________________________________________________________________\n",
      "conv1d_55 (Conv1D)              (None, 74, 32)       25632       embedding_55[0][0]               \n",
      "__________________________________________________________________________________________________\n",
      "dropout_1 (Dropout)             (None, 78, 32)       0           conv1d_53[0][0]                  \n",
      "__________________________________________________________________________________________________\n",
      "dropout_2 (Dropout)             (None, 76, 32)       0           conv1d_54[0][0]                  \n",
      "__________________________________________________________________________________________________\n",
      "dropout_3 (Dropout)             (None, 74, 32)       0           conv1d_55[0][0]                  \n",
      "__________________________________________________________________________________________________\n",
      "max_pooling1d_53 (MaxPooling1D) (None, 39, 32)       0           dropout_1[0][0]                  \n",
      "__________________________________________________________________________________________________\n",
      "max_pooling1d_54 (MaxPooling1D) (None, 38, 32)       0           dropout_2[0][0]                  \n",
      "__________________________________________________________________________________________________\n",
      "max_pooling1d_55 (MaxPooling1D) (None, 37, 32)       0           dropout_3[0][0]                  \n",
      "__________________________________________________________________________________________________\n",
      "flatten_53 (Flatten)            (None, 1248)         0           max_pooling1d_53[0][0]           \n",
      "__________________________________________________________________________________________________\n",
      "flatten_54 (Flatten)            (None, 1216)         0           max_pooling1d_54[0][0]           \n",
      "__________________________________________________________________________________________________\n",
      "flatten_55 (Flatten)            (None, 1184)         0           max_pooling1d_55[0][0]           \n",
      "__________________________________________________________________________________________________\n",
      "concatenate_1 (Concatenate)     (None, 3648)         0           flatten_53[0][0]                 \n",
      "                                                                 flatten_54[0][0]                 \n",
      "                                                                 flatten_55[0][0]                 \n",
      "__________________________________________________________________________________________________\n",
      "dense_105 (Dense)               (None, 10)           36490       concatenate_1[0][0]              \n",
      "__________________________________________________________________________________________________\n",
      "dense_106 (Dense)               (None, 1)            11          dense_105[0][0]                  \n",
      "==================================================================================================\n",
      "Total params: 2,346,297\n",
      "Trainable params: 2,346,297\n",
      "Non-trainable params: 0\n",
      "__________________________________________________________________________________________________\n"
     ]
    }
   ],
   "source": [
    "# define model Train Multi-Channel-CNN With Embedding Layer \n",
    "modelMultiCNN = define_model_multi(max_length,vocab_size)"
   ]
  },
  {
   "cell_type": "markdown",
   "metadata": {},
   "source": [
    "Using the Best Parameters (epochs=10, batch_size=10) that I have tuned with 1-Channel for 3-Channel CNN."
   ]
  },
  {
   "cell_type": "code",
   "execution_count": 48,
   "metadata": {
    "scrolled": true
   },
   "outputs": [
    {
     "name": "stderr",
     "output_type": "stream",
     "text": [
      "C:\\Users\\ADMIN\\anaconda3\\envs\\AlexEnv\\lib\\site-packages\\tensorflow_core\\python\\framework\\indexed_slices.py:433: UserWarning: Converting sparse IndexedSlices to a dense Tensor of unknown shape. This may consume a large amount of memory.\n",
      "  \"Converting sparse IndexedSlices to a dense Tensor of unknown shape. \"\n"
     ]
    },
    {
     "name": "stdout",
     "output_type": "stream",
     "text": [
      "Epoch 1/10\n",
      " - 17s - loss: 0.1887 - accuracy: 0.9481\n",
      "Epoch 2/10\n",
      " - 17s - loss: 0.0894 - accuracy: 0.9907\n",
      "Epoch 3/10\n",
      " - 17s - loss: 0.0649 - accuracy: 0.9956\n",
      "Epoch 4/10\n",
      " - 17s - loss: 0.0522 - accuracy: 0.9962\n",
      "Epoch 5/10\n",
      " - 17s - loss: 0.0434 - accuracy: 0.9975\n",
      "Epoch 6/10\n",
      " - 17s - loss: 0.0130 - accuracy: 0.9983\n",
      "Epoch 7/10\n",
      " - 17s - loss: 0.0044 - accuracy: 0.9989\n",
      "Epoch 8/10\n",
      " - 17s - loss: 0.0016 - accuracy: 0.9998\n",
      "Epoch 9/10\n",
      " - 17s - loss: 0.0019 - accuracy: 0.9994\n",
      "Epoch 10/10\n",
      " - 17s - loss: 0.0011 - accuracy: 0.9998\n"
     ]
    },
    {
     "data": {
      "text/plain": [
       "<keras.callbacks.callbacks.History at 0x1b3adff8488>"
      ]
     },
     "execution_count": 48,
     "metadata": {},
     "output_type": "execute_result"
    }
   ],
   "source": [
    "modelMultiCNN.fit([padded_train_df,padded_train_df,padded_train_df], y_train, \n",
    "                  epochs=10, batch_size=10, verbose=2)"
   ]
  },
  {
   "cell_type": "code",
   "execution_count": 49,
   "metadata": {},
   "outputs": [
    {
     "name": "stdout",
     "output_type": "stream",
     "text": [
      "Test Accuracy: 99.162680\n"
     ]
    }
   ],
   "source": [
    "# evaluate model on test dataset\n",
    "_, acc_test_2 = modelMultiCNN.evaluate([padded_test_df,padded_test_df,padded_test_df],\n",
    "                                     y_test, verbose=0)\n",
    "\n",
    "print('Test Accuracy: %f' % (acc_test_2*100))\n"
   ]
  },
  {
   "cell_type": "code",
   "execution_count": 50,
   "metadata": {},
   "outputs": [],
   "source": [
    "predict_test2 = np.round(modelMultiCNN.predict([padded_test_df,padded_test_df,padded_test_df])).astype(int)\n",
    "predict_test2 = predict_test2.flatten()\n",
    "predict_test2 = pd.Series(predict_test2)"
   ]
  },
  {
   "cell_type": "code",
   "execution_count": 51,
   "metadata": {
    "scrolled": false
   },
   "outputs": [
    {
     "name": "stdout",
     "output_type": "stream",
     "text": [
      "Test F1 Score: 96.832579\n"
     ]
    }
   ],
   "source": [
    "f1_2 = f1_score(y_test.astype(int), predict_test2)\n",
    "print('Test F1 Score: %f' % (f1_2*100))"
   ]
  },
  {
   "cell_type": "markdown",
   "metadata": {},
   "source": [
    "Model 2 Multi-Channel CNN With Embedding Layer.\n",
    "\n",
    "Model 2 has 100% Accuracy on Trainset and 99.2% Accuracy on Testset. This is the best among 3 models.\n",
    "\n",
    "The Dataset is Imbalanced so F1-Score of Model 2 on Testset is 96.8%."
   ]
  },
  {
   "cell_type": "code",
   "execution_count": 53,
   "metadata": {},
   "outputs": [],
   "source": [
    "tf.keras.backend.clear_session()"
   ]
  },
  {
   "cell_type": "markdown",
   "metadata": {},
   "source": [
    "### Conclusion"
   ]
  },
  {
   "cell_type": "markdown",
   "metadata": {},
   "source": [
    "The Dataset is trained on 85% of messages and then being tested for the remaining 15% of messages (836 messagees).\n",
    "\n",
    "Processing Steps: Cleaning Text -> Tokenize Text -> texts_to_sequences -> Padding Sequences -> Train Model.\n",
    "\n",
    "3 Models are trained: CNN With Embedding Layer,Parameterized CNN With Embedding Layer ,Multi-Channel CNN With Embedding Layer.\n",
    "\n",
    "Multi-Channel CNN With Embedding Layer is the best model with 99.2% Accuracy on Testset with F1-Score on Testset is 96.8%"
   ]
  },
  {
   "cell_type": "markdown",
   "metadata": {},
   "source": [
    "# 2. Topic Modelling"
   ]
  },
  {
   "cell_type": "code",
   "execution_count": 64,
   "metadata": {},
   "outputs": [],
   "source": [
    "mydf = pd.read_csv('spam.csv',\n",
    "                    encoding = \"latin-1\")\n",
    "mydf = mydf.iloc[:,0:2] "
   ]
  },
  {
   "cell_type": "code",
   "execution_count": 87,
   "metadata": {},
   "outputs": [],
   "source": [
    "from sklearn.feature_extraction.text import TfidfVectorizer\n",
    "import nltk\n",
    "\n",
    "from sklearn.decomposition import TruncatedSVD\n",
    "from sklearn.cluster import KMeans\n",
    "from sklearn.pipeline import make_pipeline\n",
    "\n",
    "from sklearn.decomposition import LatentDirichletAllocation\n",
    "\n",
    "\n",
    "from sklearn.cluster import KMeans\n",
    "import matplotlib.pyplot as plt"
   ]
  },
  {
   "cell_type": "markdown",
   "metadata": {},
   "source": [
    "### Step-by-Step Cleaning Text"
   ]
  },
  {
   "cell_type": "code",
   "execution_count": 65,
   "metadata": {},
   "outputs": [],
   "source": [
    "def remove_punctuation(s):\n",
    "    s1 = re.sub(r'[^\\w\\s]','',s)\n",
    "    return s1    "
   ]
  },
  {
   "cell_type": "code",
   "execution_count": 66,
   "metadata": {},
   "outputs": [],
   "source": [
    "def remove_nonAlphabet(s):\n",
    "    s1 = re.sub(\"[^a-zA-Z]+\", \" \", s)\n",
    "    return s1"
   ]
  },
  {
   "cell_type": "code",
   "execution_count": 67,
   "metadata": {},
   "outputs": [],
   "source": [
    "def tokenize(text):\n",
    "    tokens=re.split('\\W+',text)\n",
    "    return tokens \n"
   ]
  },
  {
   "cell_type": "code",
   "execution_count": 68,
   "metadata": {},
   "outputs": [],
   "source": [
    "def remove_stopwords(text):\n",
    "    clean_text=[word for word in text if word not in nltk.corpus.stopwords.words('english')]\n",
    "    return clean_text \n"
   ]
  },
  {
   "cell_type": "code",
   "execution_count": 69,
   "metadata": {},
   "outputs": [],
   "source": [
    "ps = nltk.PorterStemmer()\n",
    "\n",
    "def stemming(tokenized_text):\n",
    "    stemmed_text=[ps.stem(word) for word in tokenized_text]\n",
    "    return stemmed_text\n"
   ]
  },
  {
   "cell_type": "code",
   "execution_count": 70,
   "metadata": {},
   "outputs": [],
   "source": [
    "def get_final_text(text):\n",
    "    final_text=\" \".join([word for word in text])\n",
    "    return final_text\n"
   ]
  },
  {
   "cell_type": "code",
   "execution_count": 71,
   "metadata": {},
   "outputs": [],
   "source": [
    "def word_count(string):\n",
    "    tokens = string.split()\n",
    "    n_tokens = len(tokens)\n",
    "    return n_tokens    "
   ]
  },
  {
   "cell_type": "code",
   "execution_count": 72,
   "metadata": {},
   "outputs": [],
   "source": [
    "mydf['CleanText_RemovePunctuation'] = mydf['Text'].apply(lambda row : remove_punctuation(row))\n",
    "\n",
    "mydf['CleanText_NonAlphabet'] = mydf['CleanText_RemovePunctuation'].apply(lambda row : remove_nonAlphabet(row))\n",
    "\n",
    "mydf['CleanText_Tokenzied'] = mydf['CleanText_NonAlphabet'].apply(lambda row : tokenize(row.lower()))\n",
    "\n",
    "mydf['CleanText_RemoveStopword'] = mydf['CleanText_Tokenzied'].apply(lambda row : remove_stopwords(row))\n",
    "\n",
    "mydf['stemmed_text']=  mydf['CleanText_RemoveStopword'].apply(lambda row : stemming(row))\n",
    "\n",
    "mydf['final_clean_text']=  mydf['stemmed_text'].apply(lambda row : get_final_text(row))"
   ]
  },
  {
   "cell_type": "code",
   "execution_count": 73,
   "metadata": {},
   "outputs": [],
   "source": [
    "final_df = mydf[['Text', 'final_clean_text']]"
   ]
  },
  {
   "cell_type": "code",
   "execution_count": 77,
   "metadata": {},
   "outputs": [
    {
     "name": "stderr",
     "output_type": "stream",
     "text": [
      "C:\\Users\\ADMIN\\anaconda3\\envs\\AlexEnv\\lib\\site-packages\\ipykernel_launcher.py:1: SettingWithCopyWarning: \n",
      "A value is trying to be set on a copy of a slice from a DataFrame.\n",
      "Try using .loc[row_indexer,col_indexer] = value instead\n",
      "\n",
      "See the caveats in the documentation: https://pandas.pydata.org/pandas-docs/stable/user_guide/indexing.html#returning-a-view-versus-a-copy\n",
      "  \"\"\"Entry point for launching an IPython kernel.\n"
     ]
    }
   ],
   "source": [
    "final_df['Text_len'] = final_df['Text'].apply(lambda row: word_count(row))\n",
    "final_df['final_clean_text_len'] = final_df['final_clean_text'].apply(lambda row: word_count(row))"
   ]
  },
  {
   "cell_type": "code",
   "execution_count": 78,
   "metadata": {
    "scrolled": true
   },
   "outputs": [
    {
     "data": {
      "text/html": [
       "<div>\n",
       "<style scoped>\n",
       "    .dataframe tbody tr th:only-of-type {\n",
       "        vertical-align: middle;\n",
       "    }\n",
       "\n",
       "    .dataframe tbody tr th {\n",
       "        vertical-align: top;\n",
       "    }\n",
       "\n",
       "    .dataframe thead th {\n",
       "        text-align: right;\n",
       "    }\n",
       "</style>\n",
       "<table border=\"1\" class=\"dataframe\">\n",
       "  <thead>\n",
       "    <tr style=\"text-align: right;\">\n",
       "      <th></th>\n",
       "      <th>Text</th>\n",
       "      <th>final_clean_text</th>\n",
       "      <th>Text_len</th>\n",
       "      <th>final_clean_text_len</th>\n",
       "    </tr>\n",
       "  </thead>\n",
       "  <tbody>\n",
       "    <tr>\n",
       "      <th>0</th>\n",
       "      <td>Go until jurong point, crazy.. Available only ...</td>\n",
       "      <td>go jurong point crazi avail bugi n great world...</td>\n",
       "      <td>20</td>\n",
       "      <td>16</td>\n",
       "    </tr>\n",
       "    <tr>\n",
       "      <th>1</th>\n",
       "      <td>Ok lar... Joking wif u oni...</td>\n",
       "      <td>ok lar joke wif u oni</td>\n",
       "      <td>6</td>\n",
       "      <td>6</td>\n",
       "    </tr>\n",
       "    <tr>\n",
       "      <th>2</th>\n",
       "      <td>Free entry in 2 a wkly comp to win FA Cup fina...</td>\n",
       "      <td>free entri wkli comp win fa cup final tkt st m...</td>\n",
       "      <td>28</td>\n",
       "      <td>19</td>\n",
       "    </tr>\n",
       "    <tr>\n",
       "      <th>3</th>\n",
       "      <td>U dun say so early hor... U c already then say...</td>\n",
       "      <td>u dun say earli hor u c alreadi say</td>\n",
       "      <td>11</td>\n",
       "      <td>9</td>\n",
       "    </tr>\n",
       "    <tr>\n",
       "      <th>4</th>\n",
       "      <td>Nah I don't think he goes to usf, he lives aro...</td>\n",
       "      <td>nah dont think goe usf live around though</td>\n",
       "      <td>13</td>\n",
       "      <td>8</td>\n",
       "    </tr>\n",
       "    <tr>\n",
       "      <th>5</th>\n",
       "      <td>FreeMsg Hey there darling it's been 3 week's n...</td>\n",
       "      <td>freemsg hey darl week word back id like fun st...</td>\n",
       "      <td>32</td>\n",
       "      <td>17</td>\n",
       "    </tr>\n",
       "    <tr>\n",
       "      <th>6</th>\n",
       "      <td>Even my brother is not like to speak with me. ...</td>\n",
       "      <td>even brother like speak treat like aid patent</td>\n",
       "      <td>16</td>\n",
       "      <td>8</td>\n",
       "    </tr>\n",
       "    <tr>\n",
       "      <th>7</th>\n",
       "      <td>As per your request 'Melle Melle (Oru Minnamin...</td>\n",
       "      <td>per request mell mell oru minnaminungint nurun...</td>\n",
       "      <td>26</td>\n",
       "      <td>15</td>\n",
       "    </tr>\n",
       "    <tr>\n",
       "      <th>8</th>\n",
       "      <td>WINNER!! As a valued network customer you have...</td>\n",
       "      <td>winner valu network custom select receivea pri...</td>\n",
       "      <td>26</td>\n",
       "      <td>15</td>\n",
       "    </tr>\n",
       "    <tr>\n",
       "      <th>9</th>\n",
       "      <td>Had your mobile 11 months or more? U R entitle...</td>\n",
       "      <td>mobil month u r entitl updat latest colour mob...</td>\n",
       "      <td>29</td>\n",
       "      <td>16</td>\n",
       "    </tr>\n",
       "  </tbody>\n",
       "</table>\n",
       "</div>"
      ],
      "text/plain": [
       "                                                Text  \\\n",
       "0  Go until jurong point, crazy.. Available only ...   \n",
       "1                      Ok lar... Joking wif u oni...   \n",
       "2  Free entry in 2 a wkly comp to win FA Cup fina...   \n",
       "3  U dun say so early hor... U c already then say...   \n",
       "4  Nah I don't think he goes to usf, he lives aro...   \n",
       "5  FreeMsg Hey there darling it's been 3 week's n...   \n",
       "6  Even my brother is not like to speak with me. ...   \n",
       "7  As per your request 'Melle Melle (Oru Minnamin...   \n",
       "8  WINNER!! As a valued network customer you have...   \n",
       "9  Had your mobile 11 months or more? U R entitle...   \n",
       "\n",
       "                                    final_clean_text  Text_len  \\\n",
       "0  go jurong point crazi avail bugi n great world...        20   \n",
       "1                              ok lar joke wif u oni         6   \n",
       "2  free entri wkli comp win fa cup final tkt st m...        28   \n",
       "3                u dun say earli hor u c alreadi say        11   \n",
       "4          nah dont think goe usf live around though        13   \n",
       "5  freemsg hey darl week word back id like fun st...        32   \n",
       "6      even brother like speak treat like aid patent        16   \n",
       "7  per request mell mell oru minnaminungint nurun...        26   \n",
       "8  winner valu network custom select receivea pri...        26   \n",
       "9  mobil month u r entitl updat latest colour mob...        29   \n",
       "\n",
       "   final_clean_text_len  \n",
       "0                    16  \n",
       "1                     6  \n",
       "2                    19  \n",
       "3                     9  \n",
       "4                     8  \n",
       "5                    17  \n",
       "6                     8  \n",
       "7                    15  \n",
       "8                    15  \n",
       "9                    16  "
      ]
     },
     "execution_count": 78,
     "metadata": {},
     "output_type": "execute_result"
    }
   ],
   "source": [
    "final_df.head(10)"
   ]
  },
  {
   "cell_type": "markdown",
   "metadata": {},
   "source": [
    "###  Create a TfidfVectorizer"
   ]
  },
  {
   "cell_type": "code",
   "execution_count": 79,
   "metadata": {},
   "outputs": [],
   "source": [
    "documents = final_df['final_clean_text']"
   ]
  },
  {
   "cell_type": "code",
   "execution_count": 82,
   "metadata": {},
   "outputs": [],
   "source": [
    "# Create a TfidfVectorizer: tfidf\n",
    "tfidf = TfidfVectorizer() "
   ]
  },
  {
   "cell_type": "code",
   "execution_count": 84,
   "metadata": {},
   "outputs": [],
   "source": [
    "# Apply fit_transform to document: csr_mat\n",
    "csr_mat = tfidf.fit_transform(documents)"
   ]
  },
  {
   "cell_type": "markdown",
   "metadata": {},
   "source": [
    "### Dimensionality Reduction with SVD"
   ]
  },
  {
   "cell_type": "code",
   "execution_count": 90,
   "metadata": {},
   "outputs": [],
   "source": [
    "# Create a TruncatedSVD instance: svd\n",
    "svd = TruncatedSVD(n_components=50)"
   ]
  },
  {
   "cell_type": "code",
   "execution_count": 91,
   "metadata": {},
   "outputs": [
    {
     "data": {
      "text/plain": [
       "TruncatedSVD(algorithm='randomized', n_components=50, n_iter=5,\n",
       "             random_state=None, tol=0.0)"
      ]
     },
     "execution_count": 91,
     "metadata": {},
     "output_type": "execute_result"
    }
   ],
   "source": [
    "# Fit the pipeline to articles\n",
    "svd.fit(csr_mat)"
   ]
  },
  {
   "cell_type": "code",
   "execution_count": 92,
   "metadata": {},
   "outputs": [],
   "source": [
    "csr_mat_svd = svd.transform(csr_mat)"
   ]
  },
  {
   "cell_type": "markdown",
   "metadata": {},
   "source": [
    "### Kmeans"
   ]
  },
  {
   "cell_type": "code",
   "execution_count": 93,
   "metadata": {},
   "outputs": [],
   "source": [
    "Error =[]\n",
    "for i in range(2, 11):\n",
    "    kmeans = KMeans(n_clusters = i).fit(csr_mat_svd)\n",
    "    kmeans.fit(csr_mat_svd)\n",
    "    Error.append(kmeans.inertia_)\n"
   ]
  },
  {
   "cell_type": "code",
   "execution_count": 94,
   "metadata": {
    "scrolled": true
   },
   "outputs": [
    {
     "data": {
      "image/png": "[encoded data removed]",
      "text/plain": [
       "<Figure size 432x288 with 1 Axes>"
      ]
     },
     "metadata": {
      "needs_background": "light"
     },
     "output_type": "display_data"
    }
   ],
   "source": [
    "\n",
    "plt.plot(range(2, 11), Error)\n",
    "plt.title('Elbow method')\n",
    "plt.xlabel('No of clusters')\n",
    "plt.ylabel('Error')\n",
    "plt.show()"
   ]
  },
  {
   "cell_type": "code",
   "execution_count": 137,
   "metadata": {
    "scrolled": true
   },
   "outputs": [
    {
     "data": {
      "text/plain": [
       "KMeans(algorithm='auto', copy_x=True, init='k-means++', max_iter=300,\n",
       "       n_clusters=2, n_init=10, n_jobs=None, precompute_distances='auto',\n",
       "       random_state=None, tol=0.0001, verbose=0)"
      ]
     },
     "execution_count": 137,
     "metadata": {},
     "output_type": "execute_result"
    }
   ],
   "source": [
    "kmeans = KMeans(n_clusters = 2).fit(csr_mat_svd)\n",
    "kmeans.fit(csr_mat_svd)"
   ]
  },
  {
   "cell_type": "code",
   "execution_count": 138,
   "metadata": {},
   "outputs": [],
   "source": [
    "kmeans_label = kmeans.predict(csr_mat_svd)"
   ]
  },
  {
   "cell_type": "code",
   "execution_count": 139,
   "metadata": {},
   "outputs": [
    {
     "data": {
      "text/plain": [
       "1    5377\n",
       "0     195\n",
       "dtype: int64"
      ]
     },
     "execution_count": 139,
     "metadata": {},
     "output_type": "execute_result"
    }
   ],
   "source": [
    "pd.value_counts(kmeans_label)"
   ]
  },
  {
   "cell_type": "code",
   "execution_count": 142,
   "metadata": {
    "scrolled": true
   },
   "outputs": [
    {
     "name": "stdout",
     "output_type": "stream",
     "text": [
      "Top terms per cluster:\n",
      "Cluster 0:\n",
      " aah\n",
      " aa\n",
      " aaniy\n",
      " aaooooright\n",
      " abbey\n",
      " aathiwher\n",
      " academ\n",
      " abdomen\n",
      " accident\n",
      " access\n",
      " abouta\n",
      " abt\n",
      " absenc\n",
      " abroad\n",
      " abeg\n",
      " absolut\n",
      " aburo\n",
      " accommodationvouch\n",
      " abil\n",
      " acid\n",
      "Cluster 1:\n",
      " aa\n",
      " ab\n",
      " abil\n",
      " accident\n",
      " abus\n",
      " abel\n",
      " aaooooright\n",
      " aberdeen\n",
      " abnorm\n",
      " accommodationvouch\n",
      " accomod\n",
      " accid\n",
      " accentur\n",
      " account\n",
      " abroad\n",
      " accordingli\n",
      " accumul\n",
      " accommod\n",
      " abta\n",
      " absolut\n"
     ]
    }
   ],
   "source": [
    "print(\"Top terms per cluster:\")\n",
    "order_centroids = kmeans.cluster_centers_.argsort()[:, ::-1]\n",
    "terms = tfidf.get_feature_names()\n",
    "for i in range(2):\n",
    "    print(\"Cluster %d:\" % i),\n",
    "    for ind in order_centroids[i, :20]:\n",
    "        print(' %s' % terms[ind]),\n",
    "    print"
   ]
  },
  {
   "cell_type": "markdown",
   "metadata": {},
   "source": [
    "### Latent Dirichlet Allocation (LDA) "
   ]
  },
  {
   "cell_type": "markdown",
   "metadata": {},
   "source": [
    "https://medium.com/analytics-vidhya/topic-modelling-using-latent-dirichlet-allocation-in-scikit-learn-7daf770406c4    \n",
    "    \n"
   ]
  },
  {
   "cell_type": "code",
   "execution_count": 113,
   "metadata": {},
   "outputs": [],
   "source": [
    "# train a LDA Model\n",
    "lda_model = LatentDirichletAllocation(n_components=5, max_iter=20)\n",
    "\n",
    "X_topics = lda_model.fit_transform(csr_mat)\n"
   ]
  },
  {
   "cell_type": "code",
   "execution_count": 114,
   "metadata": {},
   "outputs": [
    {
     "name": "stdout",
     "output_type": "stream",
     "text": [
      "Top 5 words for Topic #0\n",
      "['collect', 'go', 'ur', 'call', 'im']\n",
      "\n",
      "\n",
      "Top 5 words for Topic #1\n",
      "['claim', 'repli', 'mobil', 'free', 'call']\n",
      "\n",
      "\n",
      "Top 5 words for Topic #2\n",
      "['come', 'wat', 'go', 'lor', 'ok']\n",
      "\n",
      "\n",
      "Top 5 words for Topic #3\n",
      "['get', 'later', 'sorri', 'call', 'ill']\n",
      "\n",
      "\n",
      "Top 5 words for Topic #4\n",
      "['love', 'im', 'get', 'go', 'home']\n",
      "\n",
      "\n"
     ]
    }
   ],
   "source": [
    "for index, topic in enumerate(lda_model.components_):\n",
    "    print(f'Top 5 words for Topic #{index}')\n",
    "    print([tfidf.get_feature_names()[i] for i in topic.argsort()[-5:]])\n",
    "    print('\\n')\n"
   ]
  },
  {
   "cell_type": "markdown",
   "metadata": {},
   "source": [
    "#### Tuning Paramters for LDA"
   ]
  },
  {
   "cell_type": "code",
   "execution_count": 129,
   "metadata": {},
   "outputs": [],
   "source": [
    "lda_params = {\n",
    "                'n_components' : [2,3,4,5,6,7],\n",
    "                'learning_decay': [.4,.6,.8,1.0],\n",
    "                'max_iter' : [5,10,20,30]\n",
    "             }"
   ]
  },
  {
   "cell_type": "code",
   "execution_count": 130,
   "metadata": {},
   "outputs": [],
   "source": [
    "lda = LatentDirichletAllocation()"
   ]
  },
  {
   "cell_type": "code",
   "execution_count": 131,
   "metadata": {},
   "outputs": [],
   "source": [
    "model_lda = GridSearchCV(lda, param_grid=lda_params)"
   ]
  },
  {
   "cell_type": "code",
   "execution_count": 132,
   "metadata": {},
   "outputs": [
    {
     "data": {
      "text/plain": [
       "GridSearchCV(cv=None, error_score=nan,\n",
       "             estimator=LatentDirichletAllocation(batch_size=128,\n",
       "                                                 doc_topic_prior=None,\n",
       "                                                 evaluate_every=-1,\n",
       "                                                 learning_decay=0.7,\n",
       "                                                 learning_method='batch',\n",
       "                                                 learning_offset=10.0,\n",
       "                                                 max_doc_update_iter=100,\n",
       "                                                 max_iter=10,\n",
       "                                                 mean_change_tol=0.001,\n",
       "                                                 n_components=10, n_jobs=None,\n",
       "                                                 perp_tol=0.1,\n",
       "                                                 random_state=None,\n",
       "                                                 topic_word_prior=None,\n",
       "                                                 total_samples=1000000.0,\n",
       "                                                 verbose=0),\n",
       "             iid='deprecated', n_jobs=None,\n",
       "             param_grid={'learning_decay': [0.4, 0.6, 0.8, 1.0],\n",
       "                         'max_iter': [5, 10, 20, 30],\n",
       "                         'n_components': [2, 3, 4, 5, 6, 7]},\n",
       "             pre_dispatch='2*n_jobs', refit=True, return_train_score=False,\n",
       "             scoring=None, verbose=0)"
      ]
     },
     "execution_count": 132,
     "metadata": {},
     "output_type": "execute_result"
    }
   ],
   "source": [
    "model_lda.fit(csr_mat)"
   ]
  },
  {
   "cell_type": "code",
   "execution_count": 133,
   "metadata": {
    "scrolled": true
   },
   "outputs": [
    {
     "data": {
      "text/plain": [
       "{'learning_decay': 0.4, 'max_iter': 20, 'n_components': 2}"
      ]
     },
     "execution_count": 133,
     "metadata": {},
     "output_type": "execute_result"
    }
   ],
   "source": [
    "model_lda.best_params_"
   ]
  },
  {
   "cell_type": "code",
   "execution_count": 134,
   "metadata": {},
   "outputs": [],
   "source": [
    "# train a LDA Model\n",
    "lda_model_tune = LatentDirichletAllocation(n_components=2,learning_decay=0.4, max_iter=20)"
   ]
  },
  {
   "cell_type": "code",
   "execution_count": 135,
   "metadata": {},
   "outputs": [],
   "source": [
    "X_topics_tune = lda_model_tune.fit_transform(csr_mat)"
   ]
  },
  {
   "cell_type": "code",
   "execution_count": 136,
   "metadata": {
    "scrolled": true
   },
   "outputs": [
    {
     "name": "stdout",
     "output_type": "stream",
     "text": [
      "Top 20 words for Topic #0\n",
      "['know', 'today', 'miss', 'prize', 'week', 'claim', 'get', 'min', 'ye', 'great', 'day', 'number', 'pl', 'mobil', 'txt', 'repli', 'hi', 'good', 'stop', 'messag', 'new', 'dear', 'phone', 'love', 'pleas', 'ur', 'send', 'text', 'free', 'call']\n",
      "\n",
      "\n",
      "Top 20 words for Topic #1\n",
      "['tell', 'take', 'think', 'say', 'ask', 'work', 'da', 'oh', 'wat', 'one', 'know', 'meet', 'need', 'want', 'ltgt', 'still', 'dont', 'lor', 'got', 'later', 'home', 'sorri', 'like', 'time', 'get', 'ill', 'come', 'go', 'im', 'ok']\n",
      "\n",
      "\n"
     ]
    }
   ],
   "source": [
    "for index, topic in enumerate(lda_model_tune.components_):\n",
    "    print(f'Top 20 words for Topic #{index}')\n",
    "    print([tfidf.get_feature_names()[i] for i in topic.argsort()[-30:]])\n",
    "    print('\\n')\n"
   ]
  },
  {
   "cell_type": "markdown",
   "metadata": {},
   "source": [
    "Topic 1 is most likely to be \"spam\" topic. Topic 2 is most likely \"ham\" topic.\n"
   ]
  }
 ],
 "metadata": {
  "kernelspec": {
   "display_name": "Python 3",
   "language": "python",
   "name": "python3"
  },
  "language_info": {
   "codemirror_mode": {
    "name": "ipython",
    "version": 3
   },
   "file_extension": ".py",
   "mimetype": "text/x-python",
   "name": "python",
   "nbconvert_exporter": "python",
   "pygments_lexer": "ipython3",
   "version": "3.7.6"
  }
 },
 "nbformat": 4,
 "nbformat_minor": 4
}
